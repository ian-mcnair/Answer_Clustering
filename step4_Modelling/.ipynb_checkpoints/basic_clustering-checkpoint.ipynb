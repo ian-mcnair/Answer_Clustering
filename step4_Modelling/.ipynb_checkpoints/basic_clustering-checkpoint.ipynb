{
 "cells": [
  {
   "cell_type": "code",
   "execution_count": 2,
   "metadata": {},
   "outputs": [],
   "source": [
    "from sklearn.feature_extraction.text import TfidfVectorizer\n",
    "from sklearn.cluster import KMeans\n",
    "from sklearn.metrics import adjusted_rand_score\n",
    "import pandas as pd"
   ]
  },
  {
   "cell_type": "code",
   "execution_count": 26,
   "metadata": {},
   "outputs": [],
   "source": [
    "url = \"https://raw.githubusercontent.com/patilpranjal/Auto-Grader-for-short-answer-Question-using-Siamese-Neural-Network/master/Dataset.csv\"\n",
    "df = pd.read_csv(\n",
    "    url,\n",
    "    index_col= 0\n",
    ")"
   ]
  },
  {
   "cell_type": "code",
   "execution_count": 27,
   "metadata": {},
   "outputs": [
    {
     "name": "stdout",
     "output_type": "stream",
     "text": [
      "<class 'pandas.core.frame.DataFrame'>\n",
      "Int64Index: 4925 entries, 0 to 4924\n",
      "Data columns (total 5 columns):\n",
      "studentAnswer      4925 non-null object\n",
      "referenceAnswer    4925 non-null object\n",
      "ref_1              4925 non-null object\n",
      "ref_2              4925 non-null object\n",
      "accuracy           4925 non-null object\n",
      "dtypes: object(5)\n",
      "memory usage: 230.9+ KB\n"
     ]
    }
   ],
   "source": [
    "df.info()"
   ]
  },
  {
   "cell_type": "code",
   "execution_count": 28,
   "metadata": {},
   "outputs": [],
   "source": [
    "lst = list(df.referenceAnswer.value_counts().index)"
   ]
  },
  {
   "cell_type": "code",
   "execution_count": 29,
   "metadata": {},
   "outputs": [],
   "source": [
    "temp = pd.DataFrame(lst, columns = [\"answer\"])"
   ]
  },
  {
   "cell_type": "code",
   "execution_count": 30,
   "metadata": {},
   "outputs": [],
   "source": [
    "temp['group'] = temp.index"
   ]
  },
  {
   "cell_type": "code",
   "execution_count": 31,
   "metadata": {},
   "outputs": [],
   "source": [
    "df = pd.merge(\n",
    "    left = df,\n",
    "    left_on = \"referenceAnswer\",\n",
    "    right = temp,\n",
    "    right_on = 'answer'\n",
    ")"
   ]
  },
  {
   "cell_type": "code",
   "execution_count": 32,
   "metadata": {},
   "outputs": [],
   "source": [
    "df = df.drop('answer', axis = 1)"
   ]
  },
  {
   "cell_type": "code",
   "execution_count": 75,
   "metadata": {},
   "outputs": [],
   "source": [
    "documents = df[df['group'] == 12].studentAnswer.values\n",
    "label = df[df['group'] == 12].accuracy.values"
   ]
  },
  {
   "cell_type": "code",
   "execution_count": 76,
   "metadata": {},
   "outputs": [],
   "source": [
    "vectorizer = TfidfVectorizer(stop_words='english')\n",
    "X = vectorizer.fit_transform(documents)"
   ]
  },
  {
   "cell_type": "code",
   "execution_count": 77,
   "metadata": {},
   "outputs": [],
   "source": [
    "true_k = 2\n",
    "model = KMeans(n_clusters=true_k, init='k-means++', max_iter=100, n_init=1)\n",
    "model.fit(X)\n",
    "y_pred = model.predict(X)"
   ]
  },
  {
   "cell_type": "code",
   "execution_count": 78,
   "metadata": {},
   "outputs": [
    {
     "name": "stdout",
     "output_type": "stream",
     "text": [
      "Top terms per cluster:\n",
      "Cluster 0:\n",
      " switch\n",
      " circuit\n",
      " complete\n",
      " motor\n",
      " work\n",
      "\n",
      "Cluster 1:\n",
      " circle\n",
      " happen\n",
      " flowing\n",
      " battery\n",
      " strong\n",
      "\n"
     ]
    }
   ],
   "source": [
    "print(\"Top terms per cluster:\")\n",
    "order_centroids = model.cluster_centers_.argsort()[:, ::-1]\n",
    "terms = vectorizer.get_feature_names()\n",
    "for i in range(true_k):\n",
    "    print(\"Cluster %d:\" % i),\n",
    "    for ind in order_centroids[i, :5]:\n",
    "        print(' %s' % terms[ind]),\n",
    "    print()"
   ]
  },
  {
   "cell_type": "code",
   "execution_count": 79,
   "metadata": {},
   "outputs": [],
   "source": [
    "valid = pd.DataFrame(zip(documents,label, y_pred), columns= [\"answers\",\"label\",\"group\"])"
   ]
  },
  {
   "cell_type": "code",
   "execution_count": 81,
   "metadata": {},
   "outputs": [
    {
     "data": {
      "text/html": [
       "<div>\n",
       "<style scoped>\n",
       "    .dataframe tbody tr th:only-of-type {\n",
       "        vertical-align: middle;\n",
       "    }\n",
       "\n",
       "    .dataframe tbody tr th {\n",
       "        vertical-align: top;\n",
       "    }\n",
       "\n",
       "    .dataframe thead th {\n",
       "        text-align: right;\n",
       "    }\n",
       "</style>\n",
       "<table border=\"1\" class=\"dataframe\">\n",
       "  <thead>\n",
       "    <tr style=\"text-align: right;\">\n",
       "      <th></th>\n",
       "      <th>answers</th>\n",
       "      <th>label</th>\n",
       "      <th>group</th>\n",
       "    </tr>\n",
       "  </thead>\n",
       "  <tbody>\n",
       "    <tr>\n",
       "      <th>6</th>\n",
       "      <td>It is not complete.</td>\n",
       "      <td>incorrect</td>\n",
       "      <td>0</td>\n",
       "    </tr>\n",
       "    <tr>\n",
       "      <th>9</th>\n",
       "      <td>Same as the light but it is switch to the othe...</td>\n",
       "      <td>incorrect</td>\n",
       "      <td>0</td>\n",
       "    </tr>\n",
       "    <tr>\n",
       "      <th>10</th>\n",
       "      <td>Because the light bulb is on the right.</td>\n",
       "      <td>incorrect</td>\n",
       "      <td>0</td>\n",
       "    </tr>\n",
       "    <tr>\n",
       "      <th>19</th>\n",
       "      <td>The switch will be off.</td>\n",
       "      <td>incorrect</td>\n",
       "      <td>0</td>\n",
       "    </tr>\n",
       "    <tr>\n",
       "      <th>20</th>\n",
       "      <td>It will happen because the switch moved so it ...</td>\n",
       "      <td>incorrect</td>\n",
       "      <td>0</td>\n",
       "    </tr>\n",
       "    <tr>\n",
       "      <th>23</th>\n",
       "      <td>Because the energy still has a countless form ...</td>\n",
       "      <td>incorrect</td>\n",
       "      <td>0</td>\n",
       "    </tr>\n",
       "    <tr>\n",
       "      <th>25</th>\n",
       "      <td>The switch is closer.</td>\n",
       "      <td>incorrect</td>\n",
       "      <td>0</td>\n",
       "    </tr>\n",
       "    <tr>\n",
       "      <th>27</th>\n",
       "      <td>The switch is not turned to the left.</td>\n",
       "      <td>incorrect</td>\n",
       "      <td>0</td>\n",
       "    </tr>\n",
       "    <tr>\n",
       "      <th>28</th>\n",
       "      <td>That will happen because there is no battery.</td>\n",
       "      <td>incorrect</td>\n",
       "      <td>1</td>\n",
       "    </tr>\n",
       "    <tr>\n",
       "      <th>29</th>\n",
       "      <td>Because the D-cell is not in the middle.</td>\n",
       "      <td>incorrect</td>\n",
       "      <td>0</td>\n",
       "    </tr>\n",
       "    <tr>\n",
       "      <th>31</th>\n",
       "      <td>I learned it in class.</td>\n",
       "      <td>incorrect</td>\n",
       "      <td>0</td>\n",
       "    </tr>\n",
       "    <tr>\n",
       "      <th>32</th>\n",
       "      <td>Moving the switch to the motor will make it run.</td>\n",
       "      <td>incorrect</td>\n",
       "      <td>0</td>\n",
       "    </tr>\n",
       "    <tr>\n",
       "      <th>33</th>\n",
       "      <td>It will happen because it is strong.</td>\n",
       "      <td>incorrect</td>\n",
       "      <td>1</td>\n",
       "    </tr>\n",
       "    <tr>\n",
       "      <th>34</th>\n",
       "      <td>Because you turned it off.</td>\n",
       "      <td>incorrect</td>\n",
       "      <td>0</td>\n",
       "    </tr>\n",
       "    <tr>\n",
       "      <th>35</th>\n",
       "      <td>It can work if a wire is connected to the swit...</td>\n",
       "      <td>incorrect</td>\n",
       "      <td>0</td>\n",
       "    </tr>\n",
       "  </tbody>\n",
       "</table>\n",
       "</div>"
      ],
      "text/plain": [
       "                                              answers      label  group\n",
       "6                                 It is not complete.  incorrect      0\n",
       "9   Same as the light but it is switch to the othe...  incorrect      0\n",
       "10            Because the light bulb is on the right.  incorrect      0\n",
       "19                            The switch will be off.  incorrect      0\n",
       "20  It will happen because the switch moved so it ...  incorrect      0\n",
       "23  Because the energy still has a countless form ...  incorrect      0\n",
       "25                              The switch is closer.  incorrect      0\n",
       "27              The switch is not turned to the left.  incorrect      0\n",
       "28      That will happen because there is no battery.  incorrect      1\n",
       "29           Because the D-cell is not in the middle.  incorrect      0\n",
       "31                             I learned it in class.  incorrect      0\n",
       "32   Moving the switch to the motor will make it run.  incorrect      0\n",
       "33               It will happen because it is strong.  incorrect      1\n",
       "34                         Because you turned it off.  incorrect      0\n",
       "35  It can work if a wire is connected to the swit...  incorrect      0"
      ]
     },
     "execution_count": 81,
     "metadata": {},
     "output_type": "execute_result"
    }
   ],
   "source": [
    "valid[valid.label == \"incorrect\"]"
   ]
  },
  {
   "cell_type": "code",
   "execution_count": null,
   "metadata": {},
   "outputs": [],
   "source": [
    "# Need to make elbow graph showing how errors are minimized\n",
    "# Need to do some type of count that tells me how good it did in guessing"
   ]
  }
 ],
 "metadata": {
  "kernelspec": {
   "display_name": "Python 3",
   "language": "python",
   "name": "python3"
  },
  "language_info": {
   "codemirror_mode": {
    "name": "ipython",
    "version": 3
   },
   "file_extension": ".py",
   "mimetype": "text/x-python",
   "name": "python",
   "nbconvert_exporter": "python",
   "pygments_lexer": "ipython3",
   "version": "3.8.1"
  }
 },
 "nbformat": 4,
 "nbformat_minor": 4
}
