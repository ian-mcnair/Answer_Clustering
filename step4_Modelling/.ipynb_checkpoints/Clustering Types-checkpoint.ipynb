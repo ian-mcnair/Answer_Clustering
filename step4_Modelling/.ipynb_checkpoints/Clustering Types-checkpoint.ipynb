{
 "cells": [
  {
   "cell_type": "code",
   "execution_count": 84,
   "metadata": {},
   "outputs": [],
   "source": [
    "import pandas as pd\n",
    "from sklearn.cluster import KMeans\n",
    "from sklearn.mixture import GaussianMixture\n",
    "from sklearn.preprocessing import MinMaxScaler\n",
    "from sklearn.metrics import accuracy_score, confusion_matrix"
   ]
  },
  {
   "cell_type": "code",
   "execution_count": 34,
   "metadata": {},
   "outputs": [],
   "source": [
    "import nltk\n",
    "from nltk.corpus import stopwords\n",
    "set(stopwords.words('english'))\n",
    "import pandas as pd\n",
    "import numpy as np\n",
    "import spacy\n",
    "nlp = spacy.load(\"en_core_web_lg\")"
   ]
  },
  {
   "cell_type": "code",
   "execution_count": 45,
   "metadata": {},
   "outputs": [],
   "source": [
    "sc = MinMaxScaler()\n",
    "clf = GaussianMixture(\n",
    "    n_components = 2\n",
    ")\n",
    "\n",
    "kmeans = KMeans(\n",
    "    n_clusters = 2\n",
    ")"
   ]
  },
  {
   "cell_type": "code",
   "execution_count": 102,
   "metadata": {},
   "outputs": [],
   "source": [
    "df = pd.read_csv(\n",
    "    \"sample_questions_labeled.csv\"\n",
    ")"
   ]
  },
  {
   "cell_type": "code",
   "execution_count": 103,
   "metadata": {},
   "outputs": [],
   "source": [
    "q25 = df[df.question_id == 1].copy()"
   ]
  },
  {
   "cell_type": "code",
   "execution_count": 104,
   "metadata": {},
   "outputs": [],
   "source": [
    "# Adding the Teachers answer in\n",
    "q25a = pd.DataFrame(\n",
    "    [[q25.iloc[1,i] for i in range(4)]],\n",
    "    columns  = list(q25.columns)\n",
    ")\n",
    "\n",
    "q25 = pd.concat([q25a, q25])\n",
    "q25.iloc[0,0] = q25a.teacher_answer.values[0]\n",
    "q25.reset_index(drop = True,inplace = True)"
   ]
  },
  {
   "cell_type": "code",
   "execution_count": 105,
   "metadata": {},
   "outputs": [],
   "source": [
    "# Word Count\n",
    "q25['word_count'] = q25.student_answer.apply(lambda x: len(x.split(\" \")))\n",
    "q25['string_length'] = q25.student_answer.apply(lambda x: len(x))"
   ]
  },
  {
   "cell_type": "code",
   "execution_count": 106,
   "metadata": {},
   "outputs": [],
   "source": [
    "from spacy.lang.en.stop_words import STOP_WORDS\n",
    "def remove_stopwords(doc):\n",
    "    my_doc = nlp(doc)\n",
    "    token_list = []\n",
    "    for token in my_doc:\n",
    "        token_list.append(token.text)\n",
    "    \n",
    "    filtered_sentence =[] \n",
    "    for word in token_list:\n",
    "        lexeme = nlp.vocab[word]\n",
    "        if lexeme.is_stop == False:\n",
    "            filtered_sentence.append(word) \n",
    "    return \" \".join(filtered_sentence)"
   ]
  },
  {
   "cell_type": "code",
   "execution_count": 107,
   "metadata": {},
   "outputs": [],
   "source": [
    "def jaccard_similarity(student_answer, teacher_answer):\n",
    "    student_answer = remove_stopwords(student_answer)\n",
    "    teacher_answer = remove_stopwords(teacher_answer)\n",
    "    a = set(student_answer.split(\" \"))\n",
    "    b = set(teacher_answer.split(\" \"))\n",
    "    c = a.intersection(b)\n",
    "    return (len(c) / (len(a) + len(b) - len(c)))\n",
    "\n",
    "q25['jaccard_simularity_stop'] = q25.apply(lambda row: jaccard_similarity(row.student_answer, row.teacher_answer), axis = 1)"
   ]
  },
  {
   "cell_type": "code",
   "execution_count": 108,
   "metadata": {},
   "outputs": [
    {
     "data": {
      "text/html": [
       "<div>\n",
       "<style scoped>\n",
       "    .dataframe tbody tr th:only-of-type {\n",
       "        vertical-align: middle;\n",
       "    }\n",
       "\n",
       "    .dataframe tbody tr th {\n",
       "        vertical-align: top;\n",
       "    }\n",
       "\n",
       "    .dataframe thead th {\n",
       "        text-align: right;\n",
       "    }\n",
       "</style>\n",
       "<table border=\"1\" class=\"dataframe\">\n",
       "  <thead>\n",
       "    <tr style=\"text-align: right;\">\n",
       "      <th></th>\n",
       "      <th>student_answer</th>\n",
       "      <th>teacher_answer</th>\n",
       "      <th>label</th>\n",
       "      <th>question_id</th>\n",
       "      <th>word_count</th>\n",
       "      <th>string_length</th>\n",
       "      <th>jaccard_simularity_stop</th>\n",
       "    </tr>\n",
       "  </thead>\n",
       "  <tbody>\n",
       "    <tr>\n",
       "      <th>0</th>\n",
       "      <td>Anna should compare the size of the grease spo...</td>\n",
       "      <td>Anna should compare the size of the grease spo...</td>\n",
       "      <td>1</td>\n",
       "      <td>1</td>\n",
       "      <td>19</td>\n",
       "      <td>102</td>\n",
       "      <td>1.000000</td>\n",
       "    </tr>\n",
       "    <tr>\n",
       "      <th>1</th>\n",
       "      <td>Using only the results from her experiment, An...</td>\n",
       "      <td>Anna should compare the size of the grease spo...</td>\n",
       "      <td>1</td>\n",
       "      <td>1</td>\n",
       "      <td>26</td>\n",
       "      <td>131</td>\n",
       "      <td>0.428571</td>\n",
       "    </tr>\n",
       "    <tr>\n",
       "      <th>2</th>\n",
       "      <td>The way Anna will know is the bigger the spot ...</td>\n",
       "      <td>Anna should compare the size of the grease spo...</td>\n",
       "      <td>1</td>\n",
       "      <td>1</td>\n",
       "      <td>13</td>\n",
       "      <td>59</td>\n",
       "      <td>0.307692</td>\n",
       "    </tr>\n",
       "    <tr>\n",
       "      <th>3</th>\n",
       "      <td>She will know which one has the most fat is ch...</td>\n",
       "      <td>Anna should compare the size of the grease spo...</td>\n",
       "      <td>1</td>\n",
       "      <td>1</td>\n",
       "      <td>17</td>\n",
       "      <td>82</td>\n",
       "      <td>0.416667</td>\n",
       "    </tr>\n",
       "    <tr>\n",
       "      <th>4</th>\n",
       "      <td>Look at the grease that is on it and what has ...</td>\n",
       "      <td>Anna should compare the size of the grease spo...</td>\n",
       "      <td>1</td>\n",
       "      <td>1</td>\n",
       "      <td>18</td>\n",
       "      <td>79</td>\n",
       "      <td>0.272727</td>\n",
       "    </tr>\n",
       "  </tbody>\n",
       "</table>\n",
       "</div>"
      ],
      "text/plain": [
       "                                      student_answer  \\\n",
       "0  Anna should compare the size of the grease spo...   \n",
       "1  Using only the results from her experiment, An...   \n",
       "2  The way Anna will know is the bigger the spot ...   \n",
       "3  She will know which one has the most fat is ch...   \n",
       "4  Look at the grease that is on it and what has ...   \n",
       "\n",
       "                                      teacher_answer  label  question_id  \\\n",
       "0  Anna should compare the size of the grease spo...      1            1   \n",
       "1  Anna should compare the size of the grease spo...      1            1   \n",
       "2  Anna should compare the size of the grease spo...      1            1   \n",
       "3  Anna should compare the size of the grease spo...      1            1   \n",
       "4  Anna should compare the size of the grease spo...      1            1   \n",
       "\n",
       "   word_count  string_length  jaccard_simularity_stop  \n",
       "0          19            102                 1.000000  \n",
       "1          26            131                 0.428571  \n",
       "2          13             59                 0.307692  \n",
       "3          17             82                 0.416667  \n",
       "4          18             79                 0.272727  "
      ]
     },
     "execution_count": 108,
     "metadata": {},
     "output_type": "execute_result"
    }
   ],
   "source": [
    "q25.head()"
   ]
  },
  {
   "cell_type": "markdown",
   "metadata": {},
   "source": [
    "# Start of Actual Clustering Code\n",
    "1. Scale Data\n",
    "2. Cluster\n",
    "3. Report Results"
   ]
  },
  {
   "cell_type": "code",
   "execution_count": 109,
   "metadata": {},
   "outputs": [],
   "source": [
    "X = sc.fit_transform(q25.iloc[:, -2:].values)"
   ]
  },
  {
   "cell_type": "code",
   "execution_count": 110,
   "metadata": {},
   "outputs": [],
   "source": [
    "q25['pred'] = kmeans.fit_predict(X)"
   ]
  },
  {
   "cell_type": "code",
   "execution_count": 111,
   "metadata": {},
   "outputs": [],
   "source": [
    "q25['pred'] = q25.apply(lambda row: 0 if row.pred == 0 else 1, axis = 1)"
   ]
  },
  {
   "cell_type": "code",
   "execution_count": 112,
   "metadata": {},
   "outputs": [
    {
     "data": {
      "text/plain": [
       "0.3783783783783784"
      ]
     },
     "execution_count": 112,
     "metadata": {},
     "output_type": "execute_result"
    }
   ],
   "source": [
    "accuracy_score(q25.label, q25.pred)"
   ]
  },
  {
   "cell_type": "code",
   "execution_count": null,
   "metadata": {},
   "outputs": [],
   "source": []
  }
 ],
 "metadata": {
  "kernelspec": {
   "display_name": "Python 3",
   "language": "python",
   "name": "python3"
  },
  "language_info": {
   "codemirror_mode": {
    "name": "ipython",
    "version": 3
   },
   "file_extension": ".py",
   "mimetype": "text/x-python",
   "name": "python",
   "nbconvert_exporter": "python",
   "pygments_lexer": "ipython3",
   "version": "3.8.1"
  }
 },
 "nbformat": 4,
 "nbformat_minor": 4
}
