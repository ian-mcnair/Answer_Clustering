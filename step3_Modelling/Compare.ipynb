{
 "cells": [
  {
   "cell_type": "code",
   "execution_count": 17,
   "metadata": {},
   "outputs": [
    {
     "name": "stderr",
     "output_type": "stream",
     "text": [
      "c:\\users\\imcna\\.virtualenvs\\answer_clustering-dp5vzxyv\\lib\\site-packages\\sklearn\\metrics\\_classification.py:1221: UndefinedMetricWarning: Precision is ill-defined and being set to 0.0 due to no predicted samples. Use `zero_division` parameter to control this behavior.\n",
      "  _warn_prf(average, modifier, msg_start, len(result))\n",
      "c:\\users\\imcna\\.virtualenvs\\answer_clustering-dp5vzxyv\\lib\\site-packages\\sklearn\\metrics\\_classification.py:1221: UndefinedMetricWarning: Precision is ill-defined and being set to 0.0 due to no predicted samples. Use `zero_division` parameter to control this behavior.\n",
      "  _warn_prf(average, modifier, msg_start, len(result))\n",
      "c:\\users\\imcna\\.virtualenvs\\answer_clustering-dp5vzxyv\\lib\\site-packages\\sklearn\\metrics\\_classification.py:1221: UndefinedMetricWarning: Precision is ill-defined and being set to 0.0 due to no predicted samples. Use `zero_division` parameter to control this behavior.\n",
      "  _warn_prf(average, modifier, msg_start, len(result))\n",
      "c:\\users\\imcna\\.virtualenvs\\answer_clustering-dp5vzxyv\\lib\\site-packages\\sklearn\\metrics\\_classification.py:1221: UndefinedMetricWarning: Precision is ill-defined and being set to 0.0 due to no predicted samples. Use `zero_division` parameter to control this behavior.\n",
      "  _warn_prf(average, modifier, msg_start, len(result))\n",
      "c:\\users\\imcna\\.virtualenvs\\answer_clustering-dp5vzxyv\\lib\\site-packages\\sklearn\\metrics\\_classification.py:1221: UndefinedMetricWarning: Precision is ill-defined and being set to 0.0 due to no predicted samples. Use `zero_division` parameter to control this behavior.\n",
      "  _warn_prf(average, modifier, msg_start, len(result))\n",
      "c:\\users\\imcna\\.virtualenvs\\answer_clustering-dp5vzxyv\\lib\\site-packages\\sklearn\\metrics\\_classification.py:1221: UndefinedMetricWarning: Precision is ill-defined and being set to 0.0 due to no predicted samples. Use `zero_division` parameter to control this behavior.\n",
      "  _warn_prf(average, modifier, msg_start, len(result))\n",
      "c:\\users\\imcna\\.virtualenvs\\answer_clustering-dp5vzxyv\\lib\\site-packages\\sklearn\\metrics\\_classification.py:1221: UndefinedMetricWarning: Precision is ill-defined and being set to 0.0 due to no predicted samples. Use `zero_division` parameter to control this behavior.\n",
      "  _warn_prf(average, modifier, msg_start, len(result))\n",
      "c:\\users\\imcna\\.virtualenvs\\answer_clustering-dp5vzxyv\\lib\\site-packages\\sklearn\\metrics\\_classification.py:1221: UndefinedMetricWarning: Precision is ill-defined and being set to 0.0 due to no predicted samples. Use `zero_division` parameter to control this behavior.\n",
      "  _warn_prf(average, modifier, msg_start, len(result))\n",
      "c:\\users\\imcna\\.virtualenvs\\answer_clustering-dp5vzxyv\\lib\\site-packages\\sklearn\\metrics\\_classification.py:1221: UndefinedMetricWarning: Precision is ill-defined and being set to 0.0 due to no predicted samples. Use `zero_division` parameter to control this behavior.\n",
      "  _warn_prf(average, modifier, msg_start, len(result))\n",
      "c:\\users\\imcna\\.virtualenvs\\answer_clustering-dp5vzxyv\\lib\\site-packages\\sklearn\\metrics\\_classification.py:1221: UndefinedMetricWarning: Precision is ill-defined and being set to 0.0 due to no predicted samples. Use `zero_division` parameter to control this behavior.\n",
      "  _warn_prf(average, modifier, msg_start, len(result))\n"
     ]
    }
   ],
   "source": [
    "# Need to set up the zero case\n",
    "\n",
    "import pandas as pd\n",
    "from ClassificationNLP import Classification_NLP\n",
    "pd.set_option('display.max_columns', None)\n",
    "import sentence_to_feature as stfu\n",
    "import seaborn as sns\n",
    "import matplotlib.pyplot as plt\n",
    "%matplotlib inline\n",
    "import os\n",
    "directory = \"../data/feature_sets/\"\n",
    "datasets = {'name': [], 'data': [], 'doc': []}\n",
    "for filename in os.listdir(directory):\n",
    "    if filename[-4:] == '.csv':\n",
    "        if filename[-8:-5] == 'dat':\n",
    "            datasets['data'].append(pd.read_csv(directory + filename))\n",
    "            datasets['name'].append(filename[:-8])\n",
    "        else:\n",
    "            datasets['doc'].append(pd.read_csv(directory + filename))\n",
    "            \n",
    "            \n",
    "scores = pd.DataFrame(columns = ['dataset', 'score', 'type'])\n",
    "\n",
    "i = 0\n",
    "row = {}\n",
    "for name in datasets['name']:\n",
    "    row['dataset'] = name\n",
    "    nlp = Classification_NLP(datasets['data'][i], datasets['doc'][i], .8  )\n",
    "#     row['score'],_  = nlp.accuracy()\n",
    "#     row['score'] = nlp.f1_scorer()\n",
    "#     row['score'] = nlp.recall()\n",
    "    row['score'] = nlp.precision()\n",
    "#     row['score'] = nlp.balanced_accuracy()\n",
    "    row['type'] = 'Classification'\n",
    "    i+=1\n",
    "    scores = scores.append(row, ignore_index = True)"
   ]
  },
  {
   "cell_type": "code",
   "execution_count": 18,
   "metadata": {},
   "outputs": [],
   "source": [
    "from ClusteringNLP import Clustering_NLP\n",
    "datasets = {'name': [], 'data': [], 'doc': []}\n",
    "for filename in os.listdir(directory):\n",
    "    if filename[-4:] == '.csv':\n",
    "        if filename[-8:-5] == 'dat':\n",
    "            datasets['data'].append(pd.read_csv(directory + filename))\n",
    "            datasets['name'].append(filename[:-8])\n",
    "        else:\n",
    "            datasets['doc'].append(pd.read_csv(directory + filename))\n",
    "\n",
    "i = 0\n",
    "row = {}\n",
    "for name in datasets['name']:\n",
    "    row['dataset'] = name\n",
    "    nlp = Clustering_NLP(datasets['data'][i], datasets['doc'][i])\n",
    "    nlp.correct_cluster_labels()\n",
    "#     row['score'] = nlp.accuracy()\n",
    "#     row['score'] = nlp.f1_scorer()\n",
    "#     row['score'] = nlp.recall()\n",
    "    row['score'] = nlp.precision()\n",
    "#     row['score'] = nlp.balanced_accuracy()\n",
    "    i+=1\n",
    "    row['type'] = 'Clustering'\n",
    "    scores = scores.append(row, ignore_index = True)"
   ]
  },
  {
   "cell_type": "code",
   "execution_count": 19,
   "metadata": {},
   "outputs": [],
   "source": [
    "from AutomatedSARGrading import Automated_SAR_Grading\n",
    "datasets = {'name': [], 'data': [], 'doc': []}\n",
    "for filename in os.listdir(directory):\n",
    "    if filename[-4:] == '.csv':\n",
    "        if filename[-8:-5] == 'dat':\n",
    "            datasets['data'].append(pd.read_csv(directory + filename))\n",
    "            datasets['name'].append(filename[:-8])\n",
    "        else:\n",
    "            datasets['doc'].append(pd.read_csv(directory + filename))\n",
    "\n",
    "i = 0\n",
    "row = {}\n",
    "for name in datasets['name']:\n",
    "    row['dataset'] = name\n",
    "    answer_row = len(datasets['data'][i]) -1\n",
    "    sar = Automated_SAR_Grading(datasets['data'][i], datasets['doc'][i], answer_row)\n",
    "#     row['score'] = sar.run()\n",
    "    sar.run()\n",
    "#     row['score'] = sar.accuracy()\n",
    "#     row['score'] = sar.f1_scorer()\n",
    "#     row['score'] = sar.recall()\n",
    "    row['score'] = sar.precision()\n",
    "#     row['score'] = sar.balanced_accuracy()\n",
    "    i+=1\n",
    "    row['type'] = 'Combination'\n",
    "    scores = scores.append(row, ignore_index = True)"
   ]
  },
  {
   "cell_type": "code",
   "execution_count": 20,
   "metadata": {
    "scrolled": false
   },
   "outputs": [
    {
     "name": "stderr",
     "output_type": "stream",
     "text": [
      "c:\\users\\imcna\\.virtualenvs\\answer_clustering-dp5vzxyv\\lib\\site-packages\\seaborn\\categorical.py:1296: UserWarning: 25.0% of the points cannot be placed; you may want to decrease the size of the markers or use stripplot.\n",
      "  warnings.warn(msg, UserWarning)\n",
      "c:\\users\\imcna\\.virtualenvs\\answer_clustering-dp5vzxyv\\lib\\site-packages\\seaborn\\categorical.py:1296: UserWarning: 14.3% of the points cannot be placed; you may want to decrease the size of the markers or use stripplot.\n",
      "  warnings.warn(msg, UserWarning)\n"
     ]
    },
    {
     "data": {
      "image/png": "[encoded data removed]",
      "text/plain": [
       "<Figure size 648x504 with 1 Axes>"
      ]
     },
     "metadata": {
      "needs_background": "light"
     },
     "output_type": "display_data"
    }
   ],
   "source": [
    "plt.figure(figsize = (9,7))\n",
    "sns.boxplot(\n",
    "    data = scores,\n",
    "    x = 'type',\n",
    "    y = 'score',\n",
    "    palette = 'Set2'\n",
    ")\n",
    "sns.swarmplot(\n",
    "    data = scores,\n",
    "    x = 'type',\n",
    "    y = 'score',\n",
    "    color = \"0.25\"\n",
    ")\n",
    "plt.ylim(0,1)\n",
    "plt.title(\"Methodology Comparison\")\n",
    "plt.xlabel(\"Model\")\n",
    "plt.ylabel(\"Accuracy\")\n",
    "plt.show()"
   ]
  },
  {
   "cell_type": "code",
   "execution_count": 21,
   "metadata": {},
   "outputs": [],
   "source": [
    "scores.to_csv(\n",
    "    'prec_comparisons.csv',\n",
    "    index = False\n",
    ")"
   ]
  },
  {
   "cell_type": "code",
   "execution_count": 22,
   "metadata": {},
   "outputs": [
    {
     "data": {
      "text/plain": [
       "0.7217650002589835"
      ]
     },
     "execution_count": 22,
     "metadata": {},
     "output_type": "execute_result"
    }
   ],
   "source": [
    "scores[scores.type == \"Classification\"].score.mean()"
   ]
  },
  {
   "cell_type": "code",
   "execution_count": 23,
   "metadata": {},
   "outputs": [
    {
     "data": {
      "text/plain": [
       "0.8346514035596156"
      ]
     },
     "execution_count": 23,
     "metadata": {},
     "output_type": "execute_result"
    }
   ],
   "source": [
    "scores[scores.type == \"Clustering\"].score.mean()"
   ]
  },
  {
   "cell_type": "code",
   "execution_count": 24,
   "metadata": {},
   "outputs": [
    {
     "data": {
      "text/plain": [
       "0.8106239248452518"
      ]
     },
     "execution_count": 24,
     "metadata": {},
     "output_type": "execute_result"
    }
   ],
   "source": [
    "scores[scores.type == \"Combination\"].score.mean()"
   ]
  },
  {
   "cell_type": "code",
   "execution_count": null,
   "metadata": {},
   "outputs": [],
   "source": []
  }
 ],
 "metadata": {
  "kernelspec": {
   "display_name": "Python 3",
   "language": "python",
   "name": "python3"
  },
  "language_info": {
   "codemirror_mode": {
    "name": "ipython",
    "version": 3
   },
   "file_extension": ".py",
   "mimetype": "text/x-python",
   "name": "python",
   "nbconvert_exporter": "python",
   "pygments_lexer": "ipython3",
   "version": "3.8.1"
  }
 },
 "nbformat": 4,
 "nbformat_minor": 4
}
