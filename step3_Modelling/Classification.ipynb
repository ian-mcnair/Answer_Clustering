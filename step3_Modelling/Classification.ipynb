{
 "cells": [
  {
   "cell_type": "code",
   "execution_count": 1,
   "metadata": {},
   "outputs": [],
   "source": [
    "import pandas as pd\n",
    "\n",
    "\n",
    "from ClassificationNLP import Classification_NLP\n",
    "pd.set_option('display.max_columns', None)\n"
   ]
  },
  {
   "cell_type": "code",
   "execution_count": 2,
   "metadata": {},
   "outputs": [],
   "source": [
    "# # repel 53%\n",
    "# data = pd.read_csv(\n",
    "#     '../data/feature_sets/repeldata.csv'\n",
    "# )\n",
    "# doc = pd.read_csv(\n",
    "#     '../data/feature_sets/repeldoc.csv'\n",
    "# )\n",
    "\n",
    "# Salt\n",
    "data = pd.read_csv(\n",
    "    '../data/feature_sets/question100data.csv'\n",
    ")\n",
    "doc = pd.read_csv(\n",
    "    '../data/feature_sets/question100doc.csv'\n",
    ")\n"
   ]
  },
  {
   "cell_type": "code",
   "execution_count": 3,
   "metadata": {},
   "outputs": [
    {
     "data": {
      "text/plain": [
       "(0.8378378378378378, 0.8)"
      ]
     },
     "execution_count": 3,
     "metadata": {},
     "output_type": "execute_result"
    }
   ],
   "source": [
    "nlp = Classification_NLP(data, doc, .80)\n",
    "nlp.accuracy()"
   ]
  },
  {
   "cell_type": "code",
   "execution_count": 4,
   "metadata": {},
   "outputs": [],
   "source": [
    "Answer = 'Let the water dry, leaving the salt'\n",
    "nlp.create_features(Answer)\n"
   ]
  },
  {
   "cell_type": "code",
   "execution_count": 5,
   "metadata": {},
   "outputs": [],
   "source": [
    "nlp.score_new_sentence(nlp.new_answers.iloc[:, 7:])\n",
    "\n",
    "## Breaks if I do 2 questions"
   ]
  },
  {
   "cell_type": "code",
   "execution_count": 6,
   "metadata": {},
   "outputs": [
    {
     "data": {
      "text/html": [
       "<div>\n",
       "<style scoped>\n",
       "    .dataframe tbody tr th:only-of-type {\n",
       "        vertical-align: middle;\n",
       "    }\n",
       "\n",
       "    .dataframe tbody tr th {\n",
       "        vertical-align: top;\n",
       "    }\n",
       "\n",
       "    .dataframe thead th {\n",
       "        text-align: right;\n",
       "    }\n",
       "</style>\n",
       "<table border=\"1\" class=\"dataframe\">\n",
       "  <thead>\n",
       "    <tr style=\"text-align: right;\">\n",
       "      <th></th>\n",
       "      <th>student_answer</th>\n",
       "      <th>teacher_answer</th>\n",
       "      <th>q_answer</th>\n",
       "      <th>q_stopwords</th>\n",
       "      <th>q_stemmed</th>\n",
       "      <th>q_stem_ordered</th>\n",
       "      <th>prediction</th>\n",
       "      <th>wordcount</th>\n",
       "      <th>stem_g_similarity</th>\n",
       "      <th>stem_j_similarity</th>\n",
       "      <th>stem_c_similarity</th>\n",
       "      <th>stem_ordered_g_similarity</th>\n",
       "      <th>stem_ordered_j_similarity</th>\n",
       "      <th>stem_ordered_c_similarity</th>\n",
       "      <th>q_stemmed_has_standard</th>\n",
       "      <th>q_stemmed_has_comparison</th>\n",
       "      <th>q_stemmed_has_determin</th>\n",
       "      <th>q_stemmed_has_chang</th>\n",
       "      <th>q_stemmed_has_variabl</th>\n",
       "      <th>q_stemmed_has_result</th>\n",
       "      <th>q_stemmed_has_standard_comparison</th>\n",
       "      <th>q_stemmed_has_comparison_determin</th>\n",
       "      <th>q_stemmed_has_determin_chang</th>\n",
       "      <th>q_stemmed_has_chang_variabl</th>\n",
       "      <th>q_stemmed_has_variabl_chang</th>\n",
       "      <th>q_stemmed_has_chang_result</th>\n",
       "      <th>q_stemmed_has_standard_comparison_determin</th>\n",
       "      <th>q_stemmed_has_comparison_determin_chang</th>\n",
       "      <th>q_stemmed_has_determin_chang_variabl</th>\n",
       "      <th>q_stemmed_has_chang_variabl_chang</th>\n",
       "      <th>q_stemmed_has_variabl_chang_result</th>\n",
       "      <th>q_stem_ordered_has_chang</th>\n",
       "      <th>q_stem_ordered_has_comparison</th>\n",
       "      <th>q_stem_ordered_has_determin</th>\n",
       "      <th>q_stem_ordered_has_result</th>\n",
       "      <th>q_stem_ordered_has_standard</th>\n",
       "      <th>q_stem_ordered_has_variabl</th>\n",
       "      <th>q_stem_ordered_has_chang_chang</th>\n",
       "      <th>q_stem_ordered_has_chang_comparison</th>\n",
       "      <th>q_stem_ordered_has_comparison_determin</th>\n",
       "      <th>q_stem_ordered_has_determin_result</th>\n",
       "      <th>q_stem_ordered_has_result_standard</th>\n",
       "      <th>q_stem_ordered_has_standard_variabl</th>\n",
       "      <th>q_stem_ordered_has_chang_chang_comparison</th>\n",
       "      <th>q_stem_ordered_has_chang_comparison_determin</th>\n",
       "      <th>q_stem_ordered_has_comparison_determin_result</th>\n",
       "      <th>q_stem_ordered_has_determin_result_standard</th>\n",
       "      <th>q_stem_ordered_has_result_standard_variabl</th>\n",
       "    </tr>\n",
       "  </thead>\n",
       "  <tbody>\n",
       "    <tr>\n",
       "      <th>0</th>\n",
       "      <td>Let the water dry, leaving the salt</td>\n",
       "      <td>A standard is used for comparison to determine...</td>\n",
       "      <td>Let the water dry, leaving the salt</td>\n",
       "      <td>let water dry leaving salt</td>\n",
       "      <td>let water dri leav salt</td>\n",
       "      <td>dri leav let salt water</td>\n",
       "      <td>0</td>\n",
       "      <td>0.115385</td>\n",
       "      <td>0.454545</td>\n",
       "      <td>0.0</td>\n",
       "      <td>0.0</td>\n",
       "      <td>0.454545</td>\n",
       "      <td>0.0</td>\n",
       "      <td>0.0</td>\n",
       "      <td>0</td>\n",
       "      <td>0</td>\n",
       "      <td>0</td>\n",
       "      <td>0</td>\n",
       "      <td>0</td>\n",
       "      <td>0</td>\n",
       "      <td>0</td>\n",
       "      <td>0</td>\n",
       "      <td>0</td>\n",
       "      <td>0</td>\n",
       "      <td>0</td>\n",
       "      <td>0</td>\n",
       "      <td>0</td>\n",
       "      <td>0</td>\n",
       "      <td>0</td>\n",
       "      <td>0</td>\n",
       "      <td>0</td>\n",
       "      <td>0</td>\n",
       "      <td>0</td>\n",
       "      <td>0</td>\n",
       "      <td>0</td>\n",
       "      <td>0</td>\n",
       "      <td>0</td>\n",
       "      <td>0</td>\n",
       "      <td>0</td>\n",
       "      <td>0</td>\n",
       "      <td>0</td>\n",
       "      <td>0</td>\n",
       "      <td>0</td>\n",
       "      <td>0</td>\n",
       "      <td>0</td>\n",
       "      <td>0</td>\n",
       "      <td>0</td>\n",
       "      <td>0</td>\n",
       "    </tr>\n",
       "  </tbody>\n",
       "</table>\n",
       "</div>"
      ],
      "text/plain": [
       "                        student_answer  \\\n",
       "0  Let the water dry, leaving the salt   \n",
       "\n",
       "                                      teacher_answer  \\\n",
       "0  A standard is used for comparison to determine...   \n",
       "\n",
       "                              q_answer                 q_stopwords  \\\n",
       "0  Let the water dry, leaving the salt  let water dry leaving salt   \n",
       "\n",
       "                 q_stemmed           q_stem_ordered  prediction  wordcount  \\\n",
       "0  let water dri leav salt  dri leav let salt water           0   0.115385   \n",
       "\n",
       "   stem_g_similarity  stem_j_similarity  stem_c_similarity  \\\n",
       "0           0.454545                0.0                0.0   \n",
       "\n",
       "   stem_ordered_g_similarity  stem_ordered_j_similarity  \\\n",
       "0                   0.454545                        0.0   \n",
       "\n",
       "   stem_ordered_c_similarity  q_stemmed_has_standard  \\\n",
       "0                        0.0                       0   \n",
       "\n",
       "   q_stemmed_has_comparison  q_stemmed_has_determin  q_stemmed_has_chang  \\\n",
       "0                         0                       0                    0   \n",
       "\n",
       "   q_stemmed_has_variabl  q_stemmed_has_result  \\\n",
       "0                      0                     0   \n",
       "\n",
       "   q_stemmed_has_standard_comparison  q_stemmed_has_comparison_determin  \\\n",
       "0                                  0                                  0   \n",
       "\n",
       "   q_stemmed_has_determin_chang  q_stemmed_has_chang_variabl  \\\n",
       "0                             0                            0   \n",
       "\n",
       "   q_stemmed_has_variabl_chang  q_stemmed_has_chang_result  \\\n",
       "0                            0                           0   \n",
       "\n",
       "   q_stemmed_has_standard_comparison_determin  \\\n",
       "0                                           0   \n",
       "\n",
       "   q_stemmed_has_comparison_determin_chang  \\\n",
       "0                                        0   \n",
       "\n",
       "   q_stemmed_has_determin_chang_variabl  q_stemmed_has_chang_variabl_chang  \\\n",
       "0                                     0                                  0   \n",
       "\n",
       "   q_stemmed_has_variabl_chang_result  q_stem_ordered_has_chang  \\\n",
       "0                                   0                         0   \n",
       "\n",
       "   q_stem_ordered_has_comparison  q_stem_ordered_has_determin  \\\n",
       "0                              0                            0   \n",
       "\n",
       "   q_stem_ordered_has_result  q_stem_ordered_has_standard  \\\n",
       "0                          0                            0   \n",
       "\n",
       "   q_stem_ordered_has_variabl  q_stem_ordered_has_chang_chang  \\\n",
       "0                           0                               0   \n",
       "\n",
       "   q_stem_ordered_has_chang_comparison  \\\n",
       "0                                    0   \n",
       "\n",
       "   q_stem_ordered_has_comparison_determin  q_stem_ordered_has_determin_result  \\\n",
       "0                                       0                                   0   \n",
       "\n",
       "   q_stem_ordered_has_result_standard  q_stem_ordered_has_standard_variabl  \\\n",
       "0                                   0                                    0   \n",
       "\n",
       "   q_stem_ordered_has_chang_chang_comparison  \\\n",
       "0                                          0   \n",
       "\n",
       "   q_stem_ordered_has_chang_comparison_determin  \\\n",
       "0                                             0   \n",
       "\n",
       "   q_stem_ordered_has_comparison_determin_result  \\\n",
       "0                                              0   \n",
       "\n",
       "   q_stem_ordered_has_determin_result_standard  \\\n",
       "0                                            0   \n",
       "\n",
       "   q_stem_ordered_has_result_standard_variabl  \n",
       "0                                           0  "
      ]
     },
     "execution_count": 6,
     "metadata": {},
     "output_type": "execute_result"
    }
   ],
   "source": [
    "nlp.new_answers"
   ]
  },
  {
   "cell_type": "markdown",
   "metadata": {},
   "source": [
    "# Distribution"
   ]
  },
  {
   "cell_type": "code",
   "execution_count": 1,
   "metadata": {},
   "outputs": [],
   "source": [
    "import pandas as pd\n",
    "from ClassificationNLP import Classification_NLP\n",
    "pd.set_option('display.max_columns', None)\n",
    "import sentence_to_feature as stfu\n",
    "import seaborn as sns\n",
    "import matplotlib.pyplot as plt\n",
    "%matplotlib inline\n",
    "\n",
    "import pandas as pd\n",
    "import os\n",
    "directory = \"../data/feature_sets/\"\n",
    "datasets = {'name': [], 'data': [], 'doc': []}\n",
    "for filename in os.listdir(directory):\n",
    "    if filename[-4:] == '.csv':\n",
    "        if filename[-8:-5] == 'dat':\n",
    "            datasets['data'].append(pd.read_csv(directory + filename))\n",
    "            datasets['name'].append(filename[:-8])\n",
    "        else:\n",
    "            datasets['doc'].append(pd.read_csv(directory + filename))\n"
   ]
  },
  {
   "cell_type": "code",
   "execution_count": 2,
   "metadata": {
    "scrolled": true
   },
   "outputs": [],
   "source": [
    "scores = pd.DataFrame(columns = ['dataset', 'test_score', 'total_score'])\n",
    "\n",
    "i = 0\n",
    "row = {}\n",
    "for name in datasets['name']:\n",
    "    row['dataset'] = name\n",
    "    nlp = Classification_NLP(datasets['data'][i], datasets['doc'][i], 0.75)\n",
    "    row['total_score'], row['test_score']  = nlp.accuracy()\n",
    "    i+=1\n",
    "    scores = scores.append(row, ignore_index = True)"
   ]
  },
  {
   "cell_type": "code",
   "execution_count": 3,
   "metadata": {},
   "outputs": [
    {
     "data": {
      "text/html": [
       "<div>\n",
       "<style scoped>\n",
       "    .dataframe tbody tr th:only-of-type {\n",
       "        vertical-align: middle;\n",
       "    }\n",
       "\n",
       "    .dataframe tbody tr th {\n",
       "        vertical-align: top;\n",
       "    }\n",
       "\n",
       "    .dataframe thead th {\n",
       "        text-align: right;\n",
       "    }\n",
       "</style>\n",
       "<table border=\"1\" class=\"dataframe\">\n",
       "  <thead>\n",
       "    <tr style=\"text-align: right;\">\n",
       "      <th></th>\n",
       "      <th>dataset</th>\n",
       "      <th>test_score</th>\n",
       "      <th>total_score</th>\n",
       "    </tr>\n",
       "  </thead>\n",
       "  <tbody>\n",
       "    <tr>\n",
       "      <th>0</th>\n",
       "      <td>question0</td>\n",
       "      <td>0.833333</td>\n",
       "      <td>0.875000</td>\n",
       "    </tr>\n",
       "    <tr>\n",
       "      <th>1</th>\n",
       "      <td>question100</td>\n",
       "      <td>0.821429</td>\n",
       "      <td>0.810811</td>\n",
       "    </tr>\n",
       "    <tr>\n",
       "      <th>2</th>\n",
       "      <td>question101</td>\n",
       "      <td>0.964286</td>\n",
       "      <td>0.972973</td>\n",
       "    </tr>\n",
       "    <tr>\n",
       "      <th>3</th>\n",
       "      <td>question104</td>\n",
       "      <td>0.785714</td>\n",
       "      <td>0.837838</td>\n",
       "    </tr>\n",
       "    <tr>\n",
       "      <th>4</th>\n",
       "      <td>question105</td>\n",
       "      <td>0.964286</td>\n",
       "      <td>0.972973</td>\n",
       "    </tr>\n",
       "    <tr>\n",
       "      <th>...</th>\n",
       "      <td>...</td>\n",
       "      <td>...</td>\n",
       "      <td>...</td>\n",
       "    </tr>\n",
       "    <tr>\n",
       "      <th>79</th>\n",
       "      <td>question92</td>\n",
       "      <td>0.800000</td>\n",
       "      <td>0.846154</td>\n",
       "    </tr>\n",
       "    <tr>\n",
       "      <th>80</th>\n",
       "      <td>question93</td>\n",
       "      <td>0.785714</td>\n",
       "      <td>0.810811</td>\n",
       "    </tr>\n",
       "    <tr>\n",
       "      <th>81</th>\n",
       "      <td>question95</td>\n",
       "      <td>0.821429</td>\n",
       "      <td>0.864865</td>\n",
       "    </tr>\n",
       "    <tr>\n",
       "      <th>82</th>\n",
       "      <td>question96</td>\n",
       "      <td>0.678571</td>\n",
       "      <td>0.756757</td>\n",
       "    </tr>\n",
       "    <tr>\n",
       "      <th>83</th>\n",
       "      <td>question99</td>\n",
       "      <td>0.928571</td>\n",
       "      <td>0.918919</td>\n",
       "    </tr>\n",
       "  </tbody>\n",
       "</table>\n",
       "<p>84 rows × 3 columns</p>\n",
       "</div>"
      ],
      "text/plain": [
       "        dataset  test_score  total_score\n",
       "0     question0    0.833333     0.875000\n",
       "1   question100    0.821429     0.810811\n",
       "2   question101    0.964286     0.972973\n",
       "3   question104    0.785714     0.837838\n",
       "4   question105    0.964286     0.972973\n",
       "..          ...         ...          ...\n",
       "79   question92    0.800000     0.846154\n",
       "80   question93    0.785714     0.810811\n",
       "81   question95    0.821429     0.864865\n",
       "82   question96    0.678571     0.756757\n",
       "83   question99    0.928571     0.918919\n",
       "\n",
       "[84 rows x 3 columns]"
      ]
     },
     "execution_count": 3,
     "metadata": {},
     "output_type": "execute_result"
    }
   ],
   "source": [
    "scores"
   ]
  },
  {
   "cell_type": "code",
   "execution_count": 4,
   "metadata": {},
   "outputs": [
    {
     "data": {
      "image/png": "[encoded data removed]",
      "text/plain": [
       "<Figure size 1584x360 with 1 Axes>"
      ]
     },
     "metadata": {
      "needs_background": "light"
     },
     "output_type": "display_data"
    }
   ],
   "source": [
    "plt.figure(figsize = (22,5))\n",
    "sns.scatterplot(\n",
    "    data = scores.sort_values(by = 'test_score'),\n",
    "    x = 'dataset',\n",
    "    y = 'test_score'\n",
    ")\n",
    "sns.lineplot(\n",
    "    x = scores.dataset,\n",
    "    y = 0.5,\n",
    "    \n",
    ")\n",
    "plt.xticks(rotation = 90)\n",
    "plt.ylim(0,1)\n",
    "plt.title('Distribution of Accuracy Scores')\n",
    "plt.show()"
   ]
  },
  {
   "cell_type": "code",
   "execution_count": 9,
   "metadata": {},
   "outputs": [
    {
     "data": {
      "text/plain": [
       "48"
      ]
     },
     "execution_count": 9,
     "metadata": {},
     "output_type": "execute_result"
    }
   ],
   "source": [
    "(scores.test_score > scores.test_score.mean()).sum()"
   ]
  },
  {
   "cell_type": "code",
   "execution_count": 10,
   "metadata": {},
   "outputs": [
    {
     "data": {
      "text/plain": [
       "36"
      ]
     },
     "execution_count": 10,
     "metadata": {},
     "output_type": "execute_result"
    }
   ],
   "source": [
    "(scores.test_score < scores.test_score.mean()).sum()"
   ]
  },
  {
   "cell_type": "markdown",
   "metadata": {},
   "source": [
    "# Use PCA to Represent Data"
   ]
  },
  {
   "cell_type": "code",
   "execution_count": 117,
   "metadata": {},
   "outputs": [
    {
     "name": "stdout",
     "output_type": "stream",
     "text": [
      "[1.39477916]\n"
     ]
    }
   ],
   "source": [
    "from sklearn.linear_model import LogisticRegression\n",
    "from sklearn.model_selection import train_test_split\n",
    "import numpy as np\n",
    "import seaborn as sns\n",
    "import matplotlib.pyplot as plt\n",
    "from sklearn.decomposition import PCA\n",
    "from sklearn.manifold import TSNE\n",
    "%matplotlib inline\n",
    "pca = PCA(n_components = 1)\n",
    "comps = pca.fit_transform(nlp.data)\n",
    "print(pca.explained_variance_)\n",
    "X_train, X_test, y_train, y_test = train_test_split(comps, nlp.doc.label, test_size = 0.5)"
   ]
  },
  {
   "cell_type": "code",
   "execution_count": 118,
   "metadata": {},
   "outputs": [
    {
     "data": {
      "text/plain": [
       "0.7368421052631579"
      ]
     },
     "execution_count": 118,
     "metadata": {},
     "output_type": "execute_result"
    }
   ],
   "source": [
    "clf = LogisticRegression().fit(X_train, y_train)\n",
    "pred = clf.predict(comps)\n",
    "clf.score(X_test, y_test)"
   ]
  },
  {
   "cell_type": "code",
   "execution_count": 124,
   "metadata": {},
   "outputs": [
    {
     "data": {
      "image/png": "[encoded data removed]",
      "text/plain": [
       "<Figure size 432x288 with 1 Axes>"
      ]
     },
     "metadata": {},
     "output_type": "display_data"
    }
   ],
   "source": [
    "sns.set_style(\"darkgrid\")\n",
    "sns.set_context(\"talk\")\n",
    "sns.lineplot(\n",
    "    x = line,\n",
    "    y = line_pred[:,1],\n",
    ")\n",
    "sns.scatterplot(\n",
    "    x = comps.ravel(),\n",
    "    y = pred,\n",
    "    hue = nlp.doc.label, \n",
    "    palette = \"deep\"\n",
    ")\n",
    "\n",
    "plt.title(\"PCA Reduced Plot of Logistic Regression Model Test Set\")\n",
    "plt.xlabel(\"Principal Component\")\n",
    "plt.ylabel(\"Probability\")\n",
    "plt.show()"
   ]
  },
  {
   "cell_type": "code",
   "execution_count": 30,
   "metadata": {},
   "outputs": [
    {
     "data": {
      "text/plain": [
       "array([4.2888814])"
      ]
     },
     "execution_count": 30,
     "metadata": {},
     "output_type": "execute_result"
    }
   ],
   "source": [
    "max(comps)"
   ]
  },
  {
   "cell_type": "code",
   "execution_count": 31,
   "metadata": {},
   "outputs": [
    {
     "data": {
      "text/plain": [
       "array([-1.11555762])"
      ]
     },
     "execution_count": 31,
     "metadata": {},
     "output_type": "execute_result"
    }
   ],
   "source": [
    "min(comps)"
   ]
  },
  {
   "cell_type": "code",
   "execution_count": 84,
   "metadata": {},
   "outputs": [],
   "source": [
    "line = np.linspace(-2, 5, 1000)"
   ]
  },
  {
   "cell_type": "code",
   "execution_count": 85,
   "metadata": {},
   "outputs": [],
   "source": [
    "line_pred = clf.predict_proba(line.reshape(-1,1))"
   ]
  },
  {
   "cell_type": "code",
   "execution_count": 74,
   "metadata": {},
   "outputs": [
    {
     "data": {
      "text/plain": [
       "array([[0.94075007, 0.05924993],\n",
       "       [0.94042769, 0.05957231],\n",
       "       [0.94010368, 0.05989632],\n",
       "       ...,\n",
       "       [0.04802823, 0.95197177],\n",
       "       [0.04776515, 0.95223485],\n",
       "       [0.04750344, 0.95249656]])"
      ]
     },
     "execution_count": 74,
     "metadata": {},
     "output_type": "execute_result"
    }
   ],
   "source": [
    "line_pred"
   ]
  },
  {
   "cell_type": "code",
   "execution_count": 88,
   "metadata": {},
   "outputs": [
    {
     "data": {
      "text/plain": [
       "array([[-0.67153324],\n",
       "       [ 0.14122895],\n",
       "       [ 4.2888814 ],\n",
       "       [-1.02204649],\n",
       "       [-0.65305181],\n",
       "       [-1.03774026],\n",
       "       [ 0.95472303],\n",
       "       [ 1.29717094],\n",
       "       [ 0.17261647],\n",
       "       [-0.63449134],\n",
       "       [ 1.6684036 ],\n",
       "       [ 1.08080231],\n",
       "       [-1.07374707],\n",
       "       [-0.67153324],\n",
       "       [ 0.15352686],\n",
       "       [ 1.48149197],\n",
       "       [-0.24136787],\n",
       "       [ 1.27658384],\n",
       "       [-0.70285684]])"
      ]
     },
     "execution_count": 88,
     "metadata": {},
     "output_type": "execute_result"
    }
   ],
   "source": [
    "X_test"
   ]
  },
  {
   "cell_type": "code",
   "execution_count": null,
   "metadata": {},
   "outputs": [],
   "source": []
  }
 ],
 "metadata": {
  "kernelspec": {
   "display_name": "Python 3",
   "language": "python",
   "name": "python3"
  },
  "language_info": {
   "codemirror_mode": {
    "name": "ipython",
    "version": 3
   },
   "file_extension": ".py",
   "mimetype": "text/x-python",
   "name": "python",
   "nbconvert_exporter": "python",
   "pygments_lexer": "ipython3",
   "version": "3.8.1"
  }
 },
 "nbformat": 4,
 "nbformat_minor": 4
}
