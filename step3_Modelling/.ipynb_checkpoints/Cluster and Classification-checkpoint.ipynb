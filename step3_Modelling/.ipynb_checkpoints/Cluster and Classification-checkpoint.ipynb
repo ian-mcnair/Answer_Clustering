{
 "cells": [
  {
   "cell_type": "code",
   "execution_count": 198,
   "metadata": {},
   "outputs": [],
   "source": [
    "import pandas as pd\n",
    "import numpy as np\n",
    "from sklearn.cluster import KMeans\n",
    "from sklearn.linear_model import LogisticRegression\n",
    "from sklearn.metrics import accuracy_score, confusion_matrix\n"
   ]
  },
  {
   "cell_type": "code",
   "execution_count": 332,
   "metadata": {},
   "outputs": [],
   "source": [
    "class Automated_SAR_Grading:\n",
    "    def __init__(self, df, doc, answer_row = -1):\n",
    "        self.doc = doc.iloc[:-1,:].copy()\n",
    "        self.df = df.copy()\n",
    "        self.clf_df = df.iloc[:-1,:].copy()\n",
    "        self.answer_row = answer_row\n",
    "        self.model = KMeans(n_clusters = 2)\n",
    "        self.clf = LogisticRegression()\n",
    "        self.closest = []\n",
    "        self.furthest = []\n",
    "        self.X = pd.DataFrame()\n",
    "        self.X_train = pd.DataFrame()\n",
    "        self.y_train = np.array([])\n",
    "        self.X_test = pd.DataFrame()\n",
    "        self.y_pred = []\n",
    "        self.y_true = []\n",
    "        self.accuracy = 0\n",
    "        self.cm = []\n",
    "    \n",
    "    def cluster(self):\n",
    "        self.model = self.model.fit(self.df)\n",
    "        self.df['clusters'] = self.model.labels_\n",
    "        self.correct_cluster_labels(self.answer_row)\n",
    "        \n",
    "    def find_train_set_idxs(self):\n",
    "        i = 0\n",
    "        self.df['distances'] = 0\n",
    "        for value in self.df.iloc[self.answer_row, :].values[:-1]:\n",
    "            self.df['distances'] = self.df['distances'] + ((self.df.iloc[:, i] - value) ** 2)\n",
    "            i+=1\n",
    "        self.df['distances'] = self.df['distances'] ** 0.5\n",
    "        self.df.loc[int(self.answer_row),'distances'] = -1\n",
    "        self.closest = self.df[(self.df.clusters == 1) & (self.df.distances > 0)].nsmallest(3, 'distances').index.values.tolist()\n",
    "        self.closest.append(self.answer_row)\n",
    "        self.furthest = self.df[(self.df.clusters == 0) & (self.df.distances > 0)].nlargest(3, 'distances').index.values.tolist()\n",
    "    \n",
    "    def correct_cluster_labels(self, answer_row):\n",
    "        \"\"\"\n",
    "        Assumes last row is teachers answer\n",
    "        \"\"\"\n",
    "        cluster_label = self.df.iloc[answer_row, -1]\n",
    "        print()\n",
    "        if 1 != cluster_label:\n",
    "            self.df['clusters'] = (self.df['clusters'] - 1)**2\n",
    "            \n",
    "    def create_train_test_sets(self):\n",
    "        X_correct = self.clf_df[self.clf_df.index.isin(self.closest)].copy()\n",
    "        X_correct['label'] = 1\n",
    "        X_incorrect = self.clf_df[self.clf_df.index.isin(self.furthest)].copy()\n",
    "        X_incorrect['label'] = 0\n",
    "        self.X = pd.concat([X_correct, X_incorrect])\n",
    "        self.X_train = self.X.iloc[:,:-1]\n",
    "        self.y_train = self.X.iloc[:,-1]\n",
    "        \n",
    "        self.X_test = self.clf_df[~self.clf_df.index.isin(self.closest + self.furthest)].copy()\n",
    "        print(len(self.X_test))\n",
    "    \n",
    "    def classify(self):\n",
    "        self.clf = self.clf.fit(self.X_train, self.y_train)\n",
    "        self.y_pred = self.clf.predict(self.clf_df)\n",
    "        self.y_true = self.doc['label'].values\n",
    "        return self.y_pred, self.y_true\n",
    "    \n",
    "    def score(self):\n",
    "        return accuracy_score(self.y_true, self.y_pred)\n",
    "    \n",
    "    def confusion_mtx(self):\n",
    "        return confusion_matrix(self.y_true, self.y_pred)\n",
    "    \n",
    "    def run(self):\n",
    "        \n",
    "        \n",
    "        \"\"\"\n",
    "        1. Make sure data is good\n",
    "        2. Clustering\n",
    "        3. Grab closest 3 rows and furthest 3 indexes\n",
    "        4. Label them\n",
    "        5. Define train and test sets\n",
    "        6. Logistic Regression\n",
    "        7. Score\n",
    "\n",
    "        \"\"\""
   ]
  },
  {
   "cell_type": "code",
   "execution_count": 333,
   "metadata": {},
   "outputs": [],
   "source": [
    "data = pd.read_csv(\n",
    "    '../data/feature_sets/question100data.csv'\n",
    ")\n",
    "doc = pd.read_csv(\n",
    "    '../data/feature_sets/question100doc.csv'\n",
    ")"
   ]
  },
  {
   "cell_type": "code",
   "execution_count": 334,
   "metadata": {},
   "outputs": [],
   "source": [
    "sar = Automated_SAR_Grading(data, doc, len(data)-1)"
   ]
  },
  {
   "cell_type": "code",
   "execution_count": 335,
   "metadata": {},
   "outputs": [
    {
     "name": "stdout",
     "output_type": "stream",
     "text": [
      "\n"
     ]
    }
   ],
   "source": [
    "sar.cluster()"
   ]
  },
  {
   "cell_type": "code",
   "execution_count": 336,
   "metadata": {},
   "outputs": [],
   "source": [
    "sar.find_train_set_idxs()"
   ]
  },
  {
   "cell_type": "code",
   "execution_count": 337,
   "metadata": {},
   "outputs": [
    {
     "name": "stdout",
     "output_type": "stream",
     "text": [
      "30\n"
     ]
    }
   ],
   "source": [
    "sar.create_train_test_sets()"
   ]
  },
  {
   "cell_type": "code",
   "execution_count": 338,
   "metadata": {},
   "outputs": [
    {
     "data": {
      "text/plain": [
       "(array([0, 1, 0, 1, 0, 1, 1, 0, 1, 1, 0, 0, 1, 1, 1, 0, 1, 0, 1, 0, 0, 0,\n",
       "        0, 0, 1, 1, 0, 0, 0, 0, 0, 0, 0, 0, 0, 0], dtype=int64),\n",
       " array([0, 1, 0, 1, 0, 0, 1, 0, 1, 1, 0, 0, 1, 0, 0, 1, 0, 1, 0, 0, 0, 0,\n",
       "        0, 0, 0, 0, 0, 0, 0, 0, 0, 0, 0, 0, 0, 0], dtype=int64))"
      ]
     },
     "execution_count": 338,
     "metadata": {},
     "output_type": "execute_result"
    }
   ],
   "source": [
    "sar.classify()"
   ]
  },
  {
   "cell_type": "code",
   "execution_count": 339,
   "metadata": {},
   "outputs": [
    {
     "data": {
      "text/plain": [
       "array([0, 1, 0, 1, 0, 0, 1, 0, 1, 1, 0, 0, 1, 0, 0, 1, 0, 1, 0, 0, 0, 0,\n",
       "       0, 0, 0, 0, 0, 0, 0, 0, 0, 0, 0, 0, 0, 0], dtype=int64)"
      ]
     },
     "execution_count": 339,
     "metadata": {},
     "output_type": "execute_result"
    }
   ],
   "source": [
    "sar.y_true"
   ]
  },
  {
   "cell_type": "code",
   "execution_count": 340,
   "metadata": {},
   "outputs": [
    {
     "data": {
      "text/plain": [
       "array([0, 1, 0, 1, 0, 1, 1, 0, 1, 1, 0, 0, 1, 1, 1, 0, 1, 0, 1, 0, 0, 0,\n",
       "       0, 0, 1, 1, 0, 0, 0, 0, 0, 0, 0, 0, 0, 0], dtype=int64)"
      ]
     },
     "execution_count": 340,
     "metadata": {},
     "output_type": "execute_result"
    }
   ],
   "source": [
    "sar.y_pred"
   ]
  },
  {
   "cell_type": "code",
   "execution_count": null,
   "metadata": {},
   "outputs": [],
   "source": []
  },
  {
   "cell_type": "code",
   "execution_count": null,
   "metadata": {},
   "outputs": [],
   "source": []
  }
 ],
 "metadata": {
  "kernelspec": {
   "display_name": "Python 3",
   "language": "python",
   "name": "python3"
  },
  "language_info": {
   "codemirror_mode": {
    "name": "ipython",
    "version": 3
   },
   "file_extension": ".py",
   "mimetype": "text/x-python",
   "name": "python",
   "nbconvert_exporter": "python",
   "pygments_lexer": "ipython3",
   "version": "3.8.1"
  }
 },
 "nbformat": 4,
 "nbformat_minor": 4
}
