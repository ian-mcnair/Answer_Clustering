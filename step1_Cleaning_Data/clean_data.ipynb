{
 "cells": [
  {
   "cell_type": "code",
   "execution_count": 14,
   "metadata": {},
   "outputs": [],
   "source": [
    "import pandas as pd\n",
    "import numpy as np"
   ]
  },
  {
   "cell_type": "code",
   "execution_count": 97,
   "metadata": {},
   "outputs": [],
   "source": [
    "savepath1 = \"../data/one_sentence/\"\n",
    "savepath2 = \"../data/oneplus_sentence/\"\n",
    "openpath = \"../data/sample_questions_labeled.csv\""
   ]
  },
  {
   "cell_type": "markdown",
   "metadata": {},
   "source": [
    "## Getting all the easy questions out"
   ]
  },
  {
   "cell_type": "code",
   "execution_count": 54,
   "metadata": {},
   "outputs": [],
   "source": [
    "df0 = pd.read_csv(\n",
    "    openpath\n",
    ")"
   ]
  },
  {
   "cell_type": "markdown",
   "metadata": {},
   "source": [
    "### Getting any answer that is one sentence and the length of the sentence"
   ]
  },
  {
   "cell_type": "code",
   "execution_count": 56,
   "metadata": {},
   "outputs": [
    {
     "data": {
      "text/html": [
       "<div>\n",
       "<style scoped>\n",
       "    .dataframe tbody tr th:only-of-type {\n",
       "        vertical-align: middle;\n",
       "    }\n",
       "\n",
       "    .dataframe tbody tr th {\n",
       "        vertical-align: top;\n",
       "    }\n",
       "\n",
       "    .dataframe thead th {\n",
       "        text-align: right;\n",
       "    }\n",
       "</style>\n",
       "<table border=\"1\" class=\"dataframe\">\n",
       "  <thead>\n",
       "    <tr style=\"text-align: right;\">\n",
       "      <th></th>\n",
       "      <th>student_answer</th>\n",
       "      <th>teacher_answer</th>\n",
       "      <th>label</th>\n",
       "      <th>question_id</th>\n",
       "    </tr>\n",
       "  </thead>\n",
       "  <tbody>\n",
       "    <tr>\n",
       "      <th>0</th>\n",
       "      <td>By letting it sit in a dish for a day.</td>\n",
       "      <td>The water was evaporated, leaving the salt.</td>\n",
       "      <td>0</td>\n",
       "      <td>25</td>\n",
       "    </tr>\n",
       "    <tr>\n",
       "      <th>1</th>\n",
       "      <td>Let the water evaporate and the salt is left b...</td>\n",
       "      <td>The water was evaporated, leaving the salt.</td>\n",
       "      <td>1</td>\n",
       "      <td>25</td>\n",
       "    </tr>\n",
       "    <tr>\n",
       "      <th>2</th>\n",
       "      <td>The water evaporated and left salt crystals.</td>\n",
       "      <td>The water was evaporated, leaving the salt.</td>\n",
       "      <td>1</td>\n",
       "      <td>25</td>\n",
       "    </tr>\n",
       "    <tr>\n",
       "      <th>3</th>\n",
       "      <td>I saw a pinkish grayish color that was blockin...</td>\n",
       "      <td>The water was evaporated, leaving the salt.</td>\n",
       "      <td>0</td>\n",
       "      <td>25</td>\n",
       "    </tr>\n",
       "    <tr>\n",
       "      <th>4</th>\n",
       "      <td>You have to slowly tip the vial for only the w...</td>\n",
       "      <td>The water was evaporated, leaving the salt.</td>\n",
       "      <td>0</td>\n",
       "      <td>25</td>\n",
       "    </tr>\n",
       "  </tbody>\n",
       "</table>\n",
       "</div>"
      ],
      "text/plain": [
       "                                      student_answer  \\\n",
       "0             By letting it sit in a dish for a day.   \n",
       "1  Let the water evaporate and the salt is left b...   \n",
       "2       The water evaporated and left salt crystals.   \n",
       "3  I saw a pinkish grayish color that was blockin...   \n",
       "4  You have to slowly tip the vial for only the w...   \n",
       "\n",
       "                                teacher_answer  label  question_id  \n",
       "0  The water was evaporated, leaving the salt.      0           25  \n",
       "1  The water was evaporated, leaving the salt.      1           25  \n",
       "2  The water was evaporated, leaving the salt.      1           25  \n",
       "3  The water was evaporated, leaving the salt.      0           25  \n",
       "4  The water was evaporated, leaving the salt.      0           25  "
      ]
     },
     "execution_count": 56,
     "metadata": {},
     "output_type": "execute_result"
    }
   ],
   "source": [
    "df0.head()"
   ]
  },
  {
   "cell_type": "code",
   "execution_count": 66,
   "metadata": {},
   "outputs": [],
   "source": [
    "qids = sorted(list(df0.question_id.unique()))"
   ]
  },
  {
   "cell_type": "code",
   "execution_count": 89,
   "metadata": {},
   "outputs": [
    {
     "data": {
      "text/html": [
       "<div>\n",
       "<style scoped>\n",
       "    .dataframe tbody tr th:only-of-type {\n",
       "        vertical-align: middle;\n",
       "    }\n",
       "\n",
       "    .dataframe tbody tr th {\n",
       "        vertical-align: top;\n",
       "    }\n",
       "\n",
       "    .dataframe thead th {\n",
       "        text-align: right;\n",
       "    }\n",
       "</style>\n",
       "<table border=\"1\" class=\"dataframe\">\n",
       "  <thead>\n",
       "    <tr style=\"text-align: right;\">\n",
       "      <th></th>\n",
       "      <th>student_answer</th>\n",
       "      <th>teacher_answer</th>\n",
       "      <th>label</th>\n",
       "      <th>question_id</th>\n",
       "    </tr>\n",
       "  </thead>\n",
       "  <tbody>\n",
       "    <tr>\n",
       "      <th>36</th>\n",
       "      <td>The contour lines are closest together at Q.</td>\n",
       "      <td>The contour lines are closest together at Q.</td>\n",
       "      <td>1</td>\n",
       "      <td>134</td>\n",
       "    </tr>\n",
       "    <tr>\n",
       "      <th>37</th>\n",
       "      <td>The contour lines are closest together at Q.</td>\n",
       "      <td>The contour lines are closest together at Q.</td>\n",
       "      <td>1</td>\n",
       "      <td>134</td>\n",
       "    </tr>\n",
       "    <tr>\n",
       "      <th>38</th>\n",
       "      <td>The contour lines are closest together at Q.</td>\n",
       "      <td>The contour lines are closest together at Q.</td>\n",
       "      <td>1</td>\n",
       "      <td>134</td>\n",
       "    </tr>\n",
       "    <tr>\n",
       "      <th>39</th>\n",
       "      <td>The contour lines are closest together at Q.</td>\n",
       "      <td>The contour lines are closest together at Q.</td>\n",
       "      <td>1</td>\n",
       "      <td>134</td>\n",
       "    </tr>\n",
       "    <tr>\n",
       "      <th>40</th>\n",
       "      <td>The contour lines are closest together at Q.</td>\n",
       "      <td>The contour lines are closest together at Q.</td>\n",
       "      <td>1</td>\n",
       "      <td>134</td>\n",
       "    </tr>\n",
       "  </tbody>\n",
       "</table>\n",
       "</div>"
      ],
      "text/plain": [
       "                                  student_answer  \\\n",
       "36  The contour lines are closest together at Q.   \n",
       "37  The contour lines are closest together at Q.   \n",
       "38  The contour lines are closest together at Q.   \n",
       "39  The contour lines are closest together at Q.   \n",
       "40  The contour lines are closest together at Q.   \n",
       "\n",
       "                                  teacher_answer  label  question_id  \n",
       "36  The contour lines are closest together at Q.      1          134  \n",
       "37  The contour lines are closest together at Q.      1          134  \n",
       "38  The contour lines are closest together at Q.      1          134  \n",
       "39  The contour lines are closest together at Q.      1          134  \n",
       "40  The contour lines are closest together at Q.      1          134  "
      ]
     },
     "execution_count": 89,
     "metadata": {},
     "output_type": "execute_result"
    }
   ],
   "source": [
    "def add_answer_row(df, answer, question_id):\n",
    "    df.loc[-1] = [answer, answer, 1, question_id]\n",
    "    df.reset_index(drop = True, inplace = True)\n",
    "    return df.copy()\n",
    "\n",
    "temp = add_answer_row(temp, temp.iloc[0,1], temp.iloc[0,-1])\n",
    "temp.tail()\n",
    "\n",
    "# temp[-1] = [temp.iloc[0,1], temp.iloc[0,1], 1, temp.iloc[0,-1]]"
   ]
  },
  {
   "cell_type": "code",
   "execution_count": 102,
   "metadata": {},
   "outputs": [],
   "source": [
    "# This organizes all the questions into seperate datasets and puts them into the appropriate folders\n",
    "for num in qids:\n",
    "    temp = df0[df0.question_id == num]\n",
    "    size = len(temp)\n",
    "    #print(f\"Size of {num}: {size} rows\")\n",
    "    answer = temp.iloc[0,1]\n",
    "    answer_len = len(answer.split(\" \"))\n",
    "    #print(f\"Length of answer: {answer_len}\")\n",
    "    num_sent = len(answer.split(\".\")) - 1\n",
    "    #print(f\"Number of Sentences: {num_sent}\")\n",
    "    if num_sent == 1:\n",
    "        temp = temp = add_answer_row(temp, answer, num)    \n",
    "        temp.to_csv(\n",
    "            f\"{savepath1}question{num}_len{answer_len}_size{size}.csv\",\n",
    "            index = False\n",
    "        )\n",
    "    else:\n",
    "        temp = temp = add_answer_row(temp, answer, num)    \n",
    "        temp.to_csv(\n",
    "            f\"{savepath2}question{num}_len{answer_len}_size{size}_sent{num_sent}.csv\",\n",
    "            index = False\n",
    "        )\n"
   ]
  },
  {
   "cell_type": "code",
   "execution_count": null,
   "metadata": {},
   "outputs": [],
   "source": []
  }
 ],
 "metadata": {
  "kernelspec": {
   "display_name": "Python 3",
   "language": "python",
   "name": "python3"
  },
  "language_info": {
   "codemirror_mode": {
    "name": "ipython",
    "version": 3
   },
   "file_extension": ".py",
   "mimetype": "text/x-python",
   "name": "python",
   "nbconvert_exporter": "python",
   "pygments_lexer": "ipython3",
   "version": "3.8.1"
  }
 },
 "nbformat": 4,
 "nbformat_minor": 4
}
