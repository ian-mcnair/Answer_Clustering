{
 "cells": [
  {
   "cell_type": "code",
   "execution_count": null,
   "metadata": {},
   "outputs": [],
   "source": [
    "from sklearn.feature_extraction.text import TfidfVectorizer\n",
    "from sklearn.cluster import KMeans\n",
    "from sklearn.metrics import adjusted_rand_score\n",
    "import pandas as pd"
   ]
  },
  {
   "cell_type": "code",
   "execution_count": 2,
   "metadata": {},
   "outputs": [],
   "source": [
    "url =     \"https://raw.githubusercontent.com/patilpranjal/Auto-Grader-for-short-answer-Question-using-Siamese-Neural-Network/master/Dataset.csv\"\n",
    "df = pd.read_csv(\n",
    "    url,\n",
    "    index_col= 0\n",
    ")"
   ]
  },
  {
   "cell_type": "code",
   "execution_count": 3,
   "metadata": {},
   "outputs": [
    {
     "name": "stdout",
     "output_type": "stream",
     "text": [
      "<class 'pandas.core.frame.DataFrame'>\n",
      "Int64Index: 4925 entries, 0 to 4924\n",
      "Data columns (total 5 columns):\n",
      "studentAnswer      4925 non-null object\n",
      "referenceAnswer    4925 non-null object\n",
      "ref_1              4925 non-null object\n",
      "ref_2              4925 non-null object\n",
      "accuracy           4925 non-null object\n",
      "dtypes: object(5)\n",
      "memory usage: 230.9+ KB\n"
     ]
    }
   ],
   "source": [
    "df.info()"
   ]
  },
  {
   "cell_type": "code",
   "execution_count": 4,
   "metadata": {},
   "outputs": [],
   "source": [
    "lst = list(df.referenceAnswer.value_counts().index)"
   ]
  },
  {
   "cell_type": "code",
   "execution_count": 5,
   "metadata": {},
   "outputs": [],
   "source": [
    "temp = pd.DataFrame(lst, columns = [\"answer\"])"
   ]
  },
  {
   "cell_type": "code",
   "execution_count": 6,
   "metadata": {},
   "outputs": [],
   "source": [
    "temp['group'] = temp.index"
   ]
  },
  {
   "cell_type": "code",
   "execution_count": 7,
   "metadata": {},
   "outputs": [],
   "source": [
    "df = pd.merge(\n",
    "    left = df,\n",
    "    left_on = \"referenceAnswer\",\n",
    "    right = temp,\n",
    "    right_on = 'answer'\n",
    ")"
   ]
  },
  {
   "cell_type": "code",
   "execution_count": 8,
   "metadata": {},
   "outputs": [],
   "source": [
    "df = df.drop('answer', axis = 1)"
   ]
  },
  {
   "cell_type": "code",
   "execution_count": 10,
   "metadata": {},
   "outputs": [],
   "source": [
    "documents = df[df['group'] == 60].studentAnswer.values\n",
    "label = df[df['group'] == 60].accuracy.values"
   ]
  },
  {
   "cell_type": "code",
   "execution_count": 26,
   "metadata": {},
   "outputs": [],
   "source": [
    "vectorizer = TfidfVectorizer(stop_words='english')\n",
    "X = vectorizer.fit_transform(documents)"
   ]
  },
  {
   "cell_type": "code",
   "execution_count": 27,
   "metadata": {},
   "outputs": [],
   "source": [
    "true_k = 2\n",
    "model = KMeans(n_clusters=true_k, init='k-means++', max_iter=100, n_init=1)\n",
    "model.fit(X)\n",
    "y_pred = model.predict(X)"
   ]
  },
  {
   "cell_type": "code",
   "execution_count": 28,
   "metadata": {},
   "outputs": [
    {
     "name": "stdout",
     "output_type": "stream",
     "text": [
      "Top terms per cluster:\n",
      "Cluster 0:\n",
      " sun\n",
      " shadow\n",
      " tree\n",
      " hitting\n",
      " east\n",
      "\n",
      "Cluster 1:\n",
      " light\n",
      " tree\n",
      " blocking\n",
      " object\n",
      " shadow\n",
      "\n"
     ]
    }
   ],
   "source": [
    "print(\"Top terms per cluster:\")\n",
    "order_centroids = model.cluster_centers_.argsort()[:, ::-1]\n",
    "terms = vectorizer.get_feature_names()\n",
    "for i in range(true_k):\n",
    "    print(\"Cluster %d:\" % i),\n",
    "    for ind in order_centroids[i, :5]:\n",
    "        print(' %s' % terms[ind]),\n",
    "    print()"
   ]
  },
  {
   "cell_type": "code",
   "execution_count": 29,
   "metadata": {},
   "outputs": [],
   "source": [
    "valid = pd.DataFrame(zip(documents,label, y_pred), columns= [\"answers\",\"label\",\"group\"])"
   ]
  },
  {
   "cell_type": "code",
   "execution_count": 31,
   "metadata": {},
   "outputs": [
    {
     "data": {
      "text/html": [
       "<div>\n",
       "<style scoped>\n",
       "    .dataframe tbody tr th:only-of-type {\n",
       "        vertical-align: middle;\n",
       "    }\n",
       "\n",
       "    .dataframe tbody tr th {\n",
       "        vertical-align: top;\n",
       "    }\n",
       "\n",
       "    .dataframe thead th {\n",
       "        text-align: right;\n",
       "    }\n",
       "</style>\n",
       "<table border=\"1\" class=\"dataframe\">\n",
       "  <thead>\n",
       "    <tr style=\"text-align: right;\">\n",
       "      <th></th>\n",
       "      <th>answers</th>\n",
       "      <th>label</th>\n",
       "      <th>group</th>\n",
       "    </tr>\n",
       "  </thead>\n",
       "  <tbody>\n",
       "    <tr>\n",
       "      <th>0</th>\n",
       "      <td>If it show on south east the shadow will be fa...</td>\n",
       "      <td>incorrect</td>\n",
       "      <td>0</td>\n",
       "    </tr>\n",
       "    <tr>\n",
       "      <th>1</th>\n",
       "      <td>In the early afternoon it would look point, no...</td>\n",
       "      <td>incorrect</td>\n",
       "      <td>0</td>\n",
       "    </tr>\n",
       "    <tr>\n",
       "      <th>2</th>\n",
       "      <td>The tree has a shadow because the tree blocked...</td>\n",
       "      <td>correct</td>\n",
       "      <td>0</td>\n",
       "    </tr>\n",
       "    <tr>\n",
       "      <th>4</th>\n",
       "      <td>Because the sun is over it.</td>\n",
       "      <td>incorrect</td>\n",
       "      <td>0</td>\n",
       "    </tr>\n",
       "    <tr>\n",
       "      <th>7</th>\n",
       "      <td>Because everything has a shadow and because of...</td>\n",
       "      <td>incorrect</td>\n",
       "      <td>0</td>\n",
       "    </tr>\n",
       "    <tr>\n",
       "      <th>8</th>\n",
       "      <td>The sun goes over us and we go around.</td>\n",
       "      <td>incorrect</td>\n",
       "      <td>0</td>\n",
       "    </tr>\n",
       "    <tr>\n",
       "      <th>9</th>\n",
       "      <td>So it could look like a shadow to us.</td>\n",
       "      <td>incorrect</td>\n",
       "      <td>0</td>\n",
       "    </tr>\n",
       "    <tr>\n",
       "      <th>10</th>\n",
       "      <td>Because the sun is hitting the tree and it is ...</td>\n",
       "      <td>incorrect</td>\n",
       "      <td>0</td>\n",
       "    </tr>\n",
       "    <tr>\n",
       "      <th>11</th>\n",
       "      <td>Because the sun is up.</td>\n",
       "      <td>incorrect</td>\n",
       "      <td>0</td>\n",
       "    </tr>\n",
       "    <tr>\n",
       "      <th>13</th>\n",
       "      <td>Because the sun is hitting at an object, and m...</td>\n",
       "      <td>correct</td>\n",
       "      <td>0</td>\n",
       "    </tr>\n",
       "    <tr>\n",
       "      <th>14</th>\n",
       "      <td>The tree is blocking the sun rays.</td>\n",
       "      <td>correct</td>\n",
       "      <td>0</td>\n",
       "    </tr>\n",
       "    <tr>\n",
       "      <th>15</th>\n",
       "      <td>Because the sun is on the east part and the tr...</td>\n",
       "      <td>correct</td>\n",
       "      <td>0</td>\n",
       "    </tr>\n",
       "    <tr>\n",
       "      <th>18</th>\n",
       "      <td>Because the tree is in the sun's way so it wil...</td>\n",
       "      <td>correct</td>\n",
       "      <td>0</td>\n",
       "    </tr>\n",
       "    <tr>\n",
       "      <th>20</th>\n",
       "      <td>The tree in this picture has a shadow because ...</td>\n",
       "      <td>incorrect</td>\n",
       "      <td>0</td>\n",
       "    </tr>\n",
       "    <tr>\n",
       "      <th>21</th>\n",
       "      <td>It has a shadow because the sun is facing one ...</td>\n",
       "      <td>incorrect</td>\n",
       "      <td>0</td>\n",
       "    </tr>\n",
       "    <tr>\n",
       "      <th>28</th>\n",
       "      <td>Because the sun is up.</td>\n",
       "      <td>incorrect</td>\n",
       "      <td>0</td>\n",
       "    </tr>\n",
       "    <tr>\n",
       "      <th>29</th>\n",
       "      <td>Because the sun is behind the tree and the sha...</td>\n",
       "      <td>incorrect</td>\n",
       "      <td>0</td>\n",
       "    </tr>\n",
       "    <tr>\n",
       "      <th>30</th>\n",
       "      <td>The tree has a shadow because there is a sun.</td>\n",
       "      <td>incorrect</td>\n",
       "      <td>0</td>\n",
       "    </tr>\n",
       "  </tbody>\n",
       "</table>\n",
       "</div>"
      ],
      "text/plain": [
       "                                              answers      label  group\n",
       "0   If it show on south east the shadow will be fa...  incorrect      0\n",
       "1   In the early afternoon it would look point, no...  incorrect      0\n",
       "2   The tree has a shadow because the tree blocked...    correct      0\n",
       "4                         Because the sun is over it.  incorrect      0\n",
       "7   Because everything has a shadow and because of...  incorrect      0\n",
       "8              The sun goes over us and we go around.  incorrect      0\n",
       "9               So it could look like a shadow to us.  incorrect      0\n",
       "10  Because the sun is hitting the tree and it is ...  incorrect      0\n",
       "11                             Because the sun is up.  incorrect      0\n",
       "13  Because the sun is hitting at an object, and m...    correct      0\n",
       "14                 The tree is blocking the sun rays.    correct      0\n",
       "15  Because the sun is on the east part and the tr...    correct      0\n",
       "18  Because the tree is in the sun's way so it wil...    correct      0\n",
       "20  The tree in this picture has a shadow because ...  incorrect      0\n",
       "21  It has a shadow because the sun is facing one ...  incorrect      0\n",
       "28                             Because the sun is up.  incorrect      0\n",
       "29  Because the sun is behind the tree and the sha...  incorrect      0\n",
       "30      The tree has a shadow because there is a sun.  incorrect      0"
      ]
     },
     "execution_count": 31,
     "metadata": {},
     "output_type": "execute_result"
    }
   ],
   "source": [
    "valid[valid.group == 0]"
   ]
  },
  {
   "cell_type": "code",
   "execution_count": null,
   "metadata": {},
   "outputs": [],
   "source": []
  }
 ],
 "metadata": {
  "kernelspec": {
   "display_name": "Python 3",
   "language": "python",
   "name": "python3"
  },
  "language_info": {
   "codemirror_mode": {
    "name": "ipython",
    "version": 3
   },
   "file_extension": ".py",
   "mimetype": "text/x-python",
   "name": "python",
   "nbconvert_exporter": "python",
   "pygments_lexer": "ipython3",
   "version": "3.8.1"
  }
 },
 "nbformat": 4,
 "nbformat_minor": 4
}
