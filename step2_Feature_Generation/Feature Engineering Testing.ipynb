{
 "cells": [
  {
   "cell_type": "code",
   "execution_count": 9,
   "metadata": {},
   "outputs": [],
   "source": [
    "import pandas as pd\n",
    "import numpy as np"
   ]
  },
  {
   "cell_type": "code",
   "execution_count": 10,
   "metadata": {},
   "outputs": [],
   "source": [
    "dataset_path = \"../data/one_sentence/question25_len7_size36.csv\""
   ]
  },
  {
   "cell_type": "code",
   "execution_count": 11,
   "metadata": {},
   "outputs": [],
   "source": [
    "og = pd.read_csv(\n",
    "    dataset_path\n",
    ")"
   ]
  },
  {
   "cell_type": "code",
   "execution_count": 12,
   "metadata": {},
   "outputs": [],
   "source": [
    "import sentence_to_feature as stfu\n",
    "answer = og.iloc[0,1]\n",
    "a_stopwords = stfu.remove_stopwords(answer)\n",
    "a_stemmed = stfu.stem_sentence(a_stopwords)\n",
    "a_stopwords_ordered = stfu.order_sentence(a_stemmed)\n",
    "a_stemmed_ordered = stfu.order_sentence(a_stemmed)\n",
    "a_lem = stfu.lemmatize_sentence(answer)\n",
    "a_lem_ordered = stfu.order_sentence(a_lem)\n"
   ]
  },
  {
   "cell_type": "code",
   "execution_count": 13,
   "metadata": {},
   "outputs": [],
   "source": [
    "og['q_stopwords'] = og.student_answer.apply(stfu.remove_stopwords)\n",
    "\n",
    "og['q_stemmed'] = og.q_stopwords.apply(stfu.stem_sentence)\n",
    "og['q_stem_ordered'] = og.q_stemmed.apply(stfu.order_sentence)\n",
    "\n",
    "og['q_lemm'] = og.q_stopwords.apply(stfu.lemmatize_sentence)\n",
    "og['q_lemm_ordered'] = og.q_lemm.apply(stfu.order_sentence)\n",
    "\n",
    "og['q_stopwords_ordered'] = og.q_stopwords.apply(stfu.order_sentence)"
   ]
  },
  {
   "cell_type": "code",
   "execution_count": 14,
   "metadata": {},
   "outputs": [],
   "source": [
    "# Counts\n",
    "og['wordcount'] = og.q_stem_ordered.apply(stfu.word_count)\n",
    "og['wordcount'] = stfu.scale_column(og, 'wordcount')\n",
    "og['sentence_count'] = og.student_answer.apply(stfu.sentence_count)\n",
    "og['sentence_count'] = stfu.scale_column(og, 'sentence_count')\n",
    "\n",
    "# Word based sim\n",
    "og['s_similarity'] = og.q_stopwords.apply(lambda x: stfu.spacy_similarity(x, a_stopwords))\n",
    "\n",
    "# Stem sim\n",
    "og['stem_g_similarity'] = og.q_stemmed.apply(lambda x: stfu.generic_similarity(x, a_stemmed))\n",
    "og['stem_j_similarity'] = og.q_stemmed.apply(lambda x: stfu.jaccard_similarity(x, a_stemmed))\n",
    "og['stem_c_similarity'] = og.q_stemmed.apply(lambda x: stfu.cosine_similarity(x, a_stemmed))\n",
    "# Ordered\n",
    "og['stem_ordered_g_similarity'] = og.q_stem_ordered.apply(lambda x: stfu.generic_similarity(x, a_stemmed_ordered))\n",
    "og['stem_ordered_j_similarity'] = og.q_stem_ordered.apply(lambda x: stfu.jaccard_similarity(x, a_stemmed_ordered))\n",
    "og['stem_ordered_c_similarity'] = og.q_stem_ordered.apply(lambda x: stfu.cosine_similarity(x, a_stemmed_ordered))\n",
    "\n",
    "# Lem Sim\n",
    "og['lem_g_similarity'] = og.q_lemm.apply(lambda x: stfu.generic_similarity(x, a_lem))\n",
    "og['lem_j_similarity'] = og.q_lemm.apply(lambda x: stfu.jaccard_similarity(x, a_lem))\n",
    "og['lem_s_similarity'] = og.q_lemm.apply(lambda x: stfu.spacy_similarity(x, a_lem))\n",
    "og['lem_c_similarity'] = og.q_lemm.apply(lambda x: stfu.cosine_similarity(x, a_lem))\n",
    "# Lem sim ordered\n",
    "og['lem_ordered_g_similarity'] = og.q_lemm_ordered.apply(lambda x: stfu.generic_similarity(x, a_lem_ordered))\n",
    "og['lem_ordered_j_similarity'] = og.q_lemm_ordered.apply(lambda x: stfu.jaccard_similarity(x, a_lem_ordered))\n",
    "og['lem_ordered_s_similarity'] = og.q_lemm_ordered.apply(lambda x: stfu.spacy_similarity(x, a_lem_ordered))\n",
    "og['lem_ordered_c_similarity'] = og.q_lemm_ordered.apply(lambda x: stfu.cosine_similarity(x, a_lem_ordered))\n",
    "\n",
    "# og.tail(10)"
   ]
  },
  {
   "cell_type": "code",
   "execution_count": 15,
   "metadata": {},
   "outputs": [
    {
     "name": "stdout",
     "output_type": "stream",
     "text": [
      "['water evaporated', 'evaporated leaving', 'leaving salt']\n"
     ]
    }
   ],
   "source": [
    "# og = stfu.unigram_entity_extraction(og, 'q_stopwords', 'stopwords',a_stopwords)\n",
    "# og = stfu.unigram_entity_extraction(og, 'q_lemm', 'lem', a_lem)\n",
    "\n",
    "og = stfu.bigram_entity_extraction(og, 'q_lemm', 'lem', a_lem)\n",
    "og = stfu.trigram_entity_extraction(og, 'q_lemm', 'lem', a_lem)"
   ]
  },
  {
   "cell_type": "code",
   "execution_count": 16,
   "metadata": {},
   "outputs": [
    {
     "data": {
      "text/html": [
       "<div>\n",
       "<style scoped>\n",
       "    .dataframe tbody tr th:only-of-type {\n",
       "        vertical-align: middle;\n",
       "    }\n",
       "\n",
       "    .dataframe tbody tr th {\n",
       "        vertical-align: top;\n",
       "    }\n",
       "\n",
       "    .dataframe thead th {\n",
       "        text-align: right;\n",
       "    }\n",
       "</style>\n",
       "<table border=\"1\" class=\"dataframe\">\n",
       "  <thead>\n",
       "    <tr style=\"text-align: right;\">\n",
       "      <th></th>\n",
       "      <th>student_answer</th>\n",
       "      <th>teacher_answer</th>\n",
       "      <th>label</th>\n",
       "      <th>question_id</th>\n",
       "      <th>q_stopwords</th>\n",
       "      <th>q_stemmed</th>\n",
       "      <th>q_stem_ordered</th>\n",
       "      <th>q_lemm</th>\n",
       "      <th>q_lemm_ordered</th>\n",
       "      <th>q_stopwords_ordered</th>\n",
       "      <th>...</th>\n",
       "      <th>lem_c_similarity</th>\n",
       "      <th>lem_ordered_g_similarity</th>\n",
       "      <th>lem_ordered_j_similarity</th>\n",
       "      <th>lem_ordered_s_similarity</th>\n",
       "      <th>lem_ordered_c_similarity</th>\n",
       "      <th>lem_has_water_evaporated</th>\n",
       "      <th>lem_has_evaporated_leaving</th>\n",
       "      <th>lem_has_leaving_salt</th>\n",
       "      <th>lem_has_water_evaporated_leaving</th>\n",
       "      <th>lem_has_evaporated_leaving_salt</th>\n",
       "    </tr>\n",
       "  </thead>\n",
       "  <tbody>\n",
       "    <tr>\n",
       "      <th>32</th>\n",
       "      <td>We put the water in a clear cup and let it sit...</td>\n",
       "      <td>The water was evaporated, leaving the salt.</td>\n",
       "      <td>1</td>\n",
       "      <td>25</td>\n",
       "      <td>water clear cup let sit water evaporated salt ...</td>\n",
       "      <td>water clear cup let sit water evapor salt stay</td>\n",
       "      <td>clear cup evapor let salt sit stay water water</td>\n",
       "      <td>water clear cup let sit water evaporated salt ...</td>\n",
       "      <td>clear cup evaporated let salt sit stayed water...</td>\n",
       "      <td>clear cup evaporated let salt sit stayed water...</td>\n",
       "      <td>...</td>\n",
       "      <td>0.5303</td>\n",
       "      <td>0.888889</td>\n",
       "      <td>0.333333</td>\n",
       "      <td>0.926149</td>\n",
       "      <td>0.5303</td>\n",
       "      <td>1</td>\n",
       "      <td>0</td>\n",
       "      <td>0</td>\n",
       "      <td>0</td>\n",
       "      <td>0</td>\n",
       "    </tr>\n",
       "    <tr>\n",
       "      <th>33</th>\n",
       "      <td>I put some water in a dish and let the water e...</td>\n",
       "      <td>The water was evaporated, leaving the salt.</td>\n",
       "      <td>1</td>\n",
       "      <td>25</td>\n",
       "      <td>water dish let water evaporate salt stay</td>\n",
       "      <td>water dish let water evapor salt stay</td>\n",
       "      <td>dish evapor let salt stay water water</td>\n",
       "      <td>water dish let water evaporate salt stay</td>\n",
       "      <td>dish evaporate let salt stay water water</td>\n",
       "      <td>dish evaporate let salt stay water water</td>\n",
       "      <td>...</td>\n",
       "      <td>0.4082</td>\n",
       "      <td>0.750000</td>\n",
       "      <td>0.250000</td>\n",
       "      <td>0.943489</td>\n",
       "      <td>0.4082</td>\n",
       "      <td>0</td>\n",
       "      <td>0</td>\n",
       "      <td>0</td>\n",
       "      <td>0</td>\n",
       "      <td>0</td>\n",
       "    </tr>\n",
       "    <tr>\n",
       "      <th>34</th>\n",
       "      <td>Evaporate.</td>\n",
       "      <td>The water was evaporated, leaving the salt.</td>\n",
       "      <td>0</td>\n",
       "      <td>25</td>\n",
       "      <td>evaporate</td>\n",
       "      <td>evapor</td>\n",
       "      <td>evapor</td>\n",
       "      <td>evaporate</td>\n",
       "      <td>evaporate</td>\n",
       "      <td>evaporate</td>\n",
       "      <td>...</td>\n",
       "      <td>0.0000</td>\n",
       "      <td>0.200000</td>\n",
       "      <td>0.000000</td>\n",
       "      <td>0.000000</td>\n",
       "      <td>0.0000</td>\n",
       "      <td>0</td>\n",
       "      <td>0</td>\n",
       "      <td>0</td>\n",
       "      <td>0</td>\n",
       "      <td>0</td>\n",
       "    </tr>\n",
       "    <tr>\n",
       "      <th>35</th>\n",
       "      <td>The crystals were salt.</td>\n",
       "      <td>The water was evaporated, leaving the salt.</td>\n",
       "      <td>0</td>\n",
       "      <td>25</td>\n",
       "      <td>crystals salt</td>\n",
       "      <td>crystal salt</td>\n",
       "      <td>crystal salt</td>\n",
       "      <td>crystal salt</td>\n",
       "      <td>crystal salt</td>\n",
       "      <td>crystals salt</td>\n",
       "      <td>...</td>\n",
       "      <td>0.3536</td>\n",
       "      <td>0.400000</td>\n",
       "      <td>0.200000</td>\n",
       "      <td>0.795138</td>\n",
       "      <td>0.3536</td>\n",
       "      <td>0</td>\n",
       "      <td>0</td>\n",
       "      <td>0</td>\n",
       "      <td>0</td>\n",
       "      <td>0</td>\n",
       "    </tr>\n",
       "    <tr>\n",
       "      <th>36</th>\n",
       "      <td>The water was evaporated, leaving the salt.</td>\n",
       "      <td>The water was evaporated, leaving the salt.</td>\n",
       "      <td>1</td>\n",
       "      <td>25</td>\n",
       "      <td>water evaporated leaving salt</td>\n",
       "      <td>water evapor leav salt</td>\n",
       "      <td>evapor leav salt water</td>\n",
       "      <td>water evaporated leaving salt</td>\n",
       "      <td>evaporated leaving salt water</td>\n",
       "      <td>evaporated leaving salt water</td>\n",
       "      <td>...</td>\n",
       "      <td>1.0000</td>\n",
       "      <td>1.000000</td>\n",
       "      <td>1.000000</td>\n",
       "      <td>1.000000</td>\n",
       "      <td>1.0000</td>\n",
       "      <td>1</td>\n",
       "      <td>1</td>\n",
       "      <td>1</td>\n",
       "      <td>1</td>\n",
       "      <td>1</td>\n",
       "    </tr>\n",
       "  </tbody>\n",
       "</table>\n",
       "<p>5 rows × 32 columns</p>\n",
       "</div>"
      ],
      "text/plain": [
       "                                       student_answer  \\\n",
       "32  We put the water in a clear cup and let it sit...   \n",
       "33  I put some water in a dish and let the water e...   \n",
       "34                                         Evaporate.   \n",
       "35                            The crystals were salt.   \n",
       "36        The water was evaporated, leaving the salt.   \n",
       "\n",
       "                                 teacher_answer  label  question_id  \\\n",
       "32  The water was evaporated, leaving the salt.      1           25   \n",
       "33  The water was evaporated, leaving the salt.      1           25   \n",
       "34  The water was evaporated, leaving the salt.      0           25   \n",
       "35  The water was evaporated, leaving the salt.      0           25   \n",
       "36  The water was evaporated, leaving the salt.      1           25   \n",
       "\n",
       "                                          q_stopwords  \\\n",
       "32  water clear cup let sit water evaporated salt ...   \n",
       "33           water dish let water evaporate salt stay   \n",
       "34                                          evaporate   \n",
       "35                                      crystals salt   \n",
       "36                      water evaporated leaving salt   \n",
       "\n",
       "                                         q_stemmed  \\\n",
       "32  water clear cup let sit water evapor salt stay   \n",
       "33           water dish let water evapor salt stay   \n",
       "34                                          evapor   \n",
       "35                                    crystal salt   \n",
       "36                          water evapor leav salt   \n",
       "\n",
       "                                    q_stem_ordered  \\\n",
       "32  clear cup evapor let salt sit stay water water   \n",
       "33           dish evapor let salt stay water water   \n",
       "34                                          evapor   \n",
       "35                                    crystal salt   \n",
       "36                          evapor leav salt water   \n",
       "\n",
       "                                               q_lemm  \\\n",
       "32  water clear cup let sit water evaporated salt ...   \n",
       "33           water dish let water evaporate salt stay   \n",
       "34                                          evaporate   \n",
       "35                                       crystal salt   \n",
       "36                      water evaporated leaving salt   \n",
       "\n",
       "                                       q_lemm_ordered  \\\n",
       "32  clear cup evaporated let salt sit stayed water...   \n",
       "33           dish evaporate let salt stay water water   \n",
       "34                                          evaporate   \n",
       "35                                       crystal salt   \n",
       "36                      evaporated leaving salt water   \n",
       "\n",
       "                                  q_stopwords_ordered  ...  lem_c_similarity  \\\n",
       "32  clear cup evaporated let salt sit stayed water...  ...            0.5303   \n",
       "33           dish evaporate let salt stay water water  ...            0.4082   \n",
       "34                                          evaporate  ...            0.0000   \n",
       "35                                      crystals salt  ...            0.3536   \n",
       "36                      evaporated leaving salt water  ...            1.0000   \n",
       "\n",
       "    lem_ordered_g_similarity  lem_ordered_j_similarity  \\\n",
       "32                  0.888889                  0.333333   \n",
       "33                  0.750000                  0.250000   \n",
       "34                  0.200000                  0.000000   \n",
       "35                  0.400000                  0.200000   \n",
       "36                  1.000000                  1.000000   \n",
       "\n",
       "    lem_ordered_s_similarity  lem_ordered_c_similarity  \\\n",
       "32                  0.926149                    0.5303   \n",
       "33                  0.943489                    0.4082   \n",
       "34                  0.000000                    0.0000   \n",
       "35                  0.795138                    0.3536   \n",
       "36                  1.000000                    1.0000   \n",
       "\n",
       "    lem_has_water_evaporated  lem_has_evaporated_leaving  \\\n",
       "32                         1                           0   \n",
       "33                         0                           0   \n",
       "34                         0                           0   \n",
       "35                         0                           0   \n",
       "36                         1                           1   \n",
       "\n",
       "    lem_has_leaving_salt  lem_has_water_evaporated_leaving  \\\n",
       "32                     0                                 0   \n",
       "33                     0                                 0   \n",
       "34                     0                                 0   \n",
       "35                     0                                 0   \n",
       "36                     1                                 1   \n",
       "\n",
       "    lem_has_evaporated_leaving_salt  \n",
       "32                                0  \n",
       "33                                0  \n",
       "34                                0  \n",
       "35                                0  \n",
       "36                                1  \n",
       "\n",
       "[5 rows x 32 columns]"
      ]
     },
     "execution_count": 16,
     "metadata": {},
     "output_type": "execute_result"
    }
   ],
   "source": [
    "og.tail(5)"
   ]
  },
  {
   "cell_type": "markdown",
   "metadata": {},
   "source": [
    "# Create Feature Set\n",
    "Want to take in a filename, create all of the features, export them in a format that lets ML happen more easily\n",
    "\n",
    "## Need To Do\n",
    "- Drop all low variance features\n",
    "- normalize all features\n",
    "- assign unique id\n",
    "- save two datasets, one with sentences the other with just the data"
   ]
  },
  {
   "cell_type": "code",
   "execution_count": 63,
   "metadata": {},
   "outputs": [
    {
     "name": "stdout",
     "output_type": "stream",
     "text": [
      "<class 'pandas.core.frame.DataFrame'>\n",
      "RangeIndex: 37 entries, 0 to 36\n",
      "Data columns (total 32 columns):\n",
      " #   Column                            Non-Null Count  Dtype  \n",
      "---  ------                            --------------  -----  \n",
      " 0   student_answer                    37 non-null     object \n",
      " 1   teacher_answer                    37 non-null     object \n",
      " 2   label                             37 non-null     int64  \n",
      " 3   question_id                       37 non-null     int64  \n",
      " 4   q_stopwords                       37 non-null     object \n",
      " 5   q_stemmed                         37 non-null     object \n",
      " 6   q_stem_ordered                    37 non-null     object \n",
      " 7   q_lemm                            37 non-null     object \n",
      " 8   q_lemm_ordered                    37 non-null     object \n",
      " 9   q_stopwords_ordered               37 non-null     object \n",
      " 10  wordcount                         37 non-null     float64\n",
      " 11  sentence_count                    37 non-null     float64\n",
      " 12  s_similarity                      37 non-null     float64\n",
      " 13  stem_g_similarity                 37 non-null     float64\n",
      " 14  stem_j_similarity                 37 non-null     float64\n",
      " 15  stem_c_similarity                 37 non-null     float64\n",
      " 16  stem_ordered_g_similarity         37 non-null     float64\n",
      " 17  stem_ordered_j_similarity         37 non-null     float64\n",
      " 18  stem_ordered_c_similarity         37 non-null     float64\n",
      " 19  lem_g_similarity                  37 non-null     float64\n",
      " 20  lem_j_similarity                  37 non-null     float64\n",
      " 21  lem_s_similarity                  37 non-null     float64\n",
      " 22  lem_c_similarity                  37 non-null     float64\n",
      " 23  lem_ordered_g_similarity          37 non-null     float64\n",
      " 24  lem_ordered_j_similarity          37 non-null     float64\n",
      " 25  lem_ordered_s_similarity          37 non-null     float64\n",
      " 26  lem_ordered_c_similarity          37 non-null     float64\n",
      " 27  lem_has_water_evaporated          37 non-null     int64  \n",
      " 28  lem_has_evaporated_leaving        37 non-null     int64  \n",
      " 29  lem_has_leaving_salt              37 non-null     int64  \n",
      " 30  lem_has_water_evaporated_leaving  37 non-null     int64  \n",
      " 31  lem_has_evaporated_leaving_salt   37 non-null     int64  \n",
      "dtypes: float64(17), int64(7), object(8)\n",
      "memory usage: 9.4+ KB\n"
     ]
    }
   ],
   "source": [
    "og.info()"
   ]
  },
  {
   "cell_type": "code",
   "execution_count": 59,
   "metadata": {
    "collapsed": true,
    "jupyter": {
     "outputs_hidden": true
    }
   },
   "outputs": [
    {
     "name": "stdout",
     "output_type": "stream",
     "text": [
      "<class 'pandas.core.frame.DataFrame'>\n",
      "RangeIndex: 37 entries, 0 to 36\n",
      "Data columns (total 24 columns):\n",
      " #   Column                            Non-Null Count  Dtype  \n",
      "---  ------                            --------------  -----  \n",
      " 0   label                             37 non-null     int64  \n",
      " 1   question_id                       37 non-null     int64  \n",
      " 2   wordcount                         37 non-null     float64\n",
      " 3   sentence_count                    37 non-null     float64\n",
      " 4   s_similarity                      37 non-null     float64\n",
      " 5   stem_g_similarity                 37 non-null     float64\n",
      " 6   stem_j_similarity                 37 non-null     float64\n",
      " 7   stem_c_similarity                 37 non-null     float64\n",
      " 8   stem_ordered_g_similarity         37 non-null     float64\n",
      " 9   stem_ordered_j_similarity         37 non-null     float64\n",
      " 10  stem_ordered_c_similarity         37 non-null     float64\n",
      " 11  lem_g_similarity                  37 non-null     float64\n",
      " 12  lem_j_similarity                  37 non-null     float64\n",
      " 13  lem_s_similarity                  37 non-null     float64\n",
      " 14  lem_c_similarity                  37 non-null     float64\n",
      " 15  lem_ordered_g_similarity          37 non-null     float64\n",
      " 16  lem_ordered_j_similarity          37 non-null     float64\n",
      " 17  lem_ordered_s_similarity          37 non-null     float64\n",
      " 18  lem_ordered_c_similarity          37 non-null     float64\n",
      " 19  lem_has_water_evaporated          37 non-null     int64  \n",
      " 20  lem_has_evaporated_leaving        37 non-null     int64  \n",
      " 21  lem_has_leaving_salt              37 non-null     int64  \n",
      " 22  lem_has_water_evaporated_leaving  37 non-null     int64  \n",
      " 23  lem_has_evaporated_leaving_salt   37 non-null     int64  \n",
      "dtypes: float64(17), int64(7)\n",
      "memory usage: 7.1 KB\n"
     ]
    }
   ],
   "source": [
    "df = og.select_dtypes(include=['int64', 'float64'])\n",
    "df.info()"
   ]
  },
  {
   "cell_type": "code",
   "execution_count": 60,
   "metadata": {},
   "outputs": [],
   "source": [
    "from sklearn.feature_selection import VarianceThreshold\n",
    "selector = VarianceThreshold(0.01)\n",
    "test = selector.fit_transform(df)"
   ]
  },
  {
   "cell_type": "code",
   "execution_count": 61,
   "metadata": {
    "collapsed": true,
    "jupyter": {
     "outputs_hidden": true
    }
   },
   "outputs": [
    {
     "data": {
      "text/plain": [
       "array([0.24835646, 0.        , 0.06638057, 0.02629657, 0.07497252,\n",
       "       0.03776127, 0.04330114, 0.05863672, 0.03776127, 0.04330114,\n",
       "       0.05863672, 0.03618952, 0.04425707, 0.07454299, 0.06199686,\n",
       "       0.03618952, 0.04425707, 0.0738572 , 0.06199686, 0.16946676,\n",
       "       0.02629657, 0.02629657, 0.02629657, 0.02629657])"
      ]
     },
     "execution_count": 61,
     "metadata": {},
     "output_type": "execute_result"
    }
   ],
   "source": [
    "selector.variances_"
   ]
  },
  {
   "cell_type": "code",
   "execution_count": 62,
   "metadata": {
    "collapsed": true,
    "jupyter": {
     "outputs_hidden": true
    }
   },
   "outputs": [
    {
     "name": "stdout",
     "output_type": "stream",
     "text": [
      "<class 'pandas.core.frame.DataFrame'>\n",
      "RangeIndex: 37 entries, 0 to 36\n",
      "Data columns (total 23 columns):\n",
      " #   Column                            Non-Null Count  Dtype  \n",
      "---  ------                            --------------  -----  \n",
      " 0   label                             37 non-null     int64  \n",
      " 1   wordcount                         37 non-null     float64\n",
      " 2   sentence_count                    37 non-null     float64\n",
      " 3   s_similarity                      37 non-null     float64\n",
      " 4   stem_g_similarity                 37 non-null     float64\n",
      " 5   stem_j_similarity                 37 non-null     float64\n",
      " 6   stem_c_similarity                 37 non-null     float64\n",
      " 7   stem_ordered_g_similarity         37 non-null     float64\n",
      " 8   stem_ordered_j_similarity         37 non-null     float64\n",
      " 9   stem_ordered_c_similarity         37 non-null     float64\n",
      " 10  lem_g_similarity                  37 non-null     float64\n",
      " 11  lem_j_similarity                  37 non-null     float64\n",
      " 12  lem_s_similarity                  37 non-null     float64\n",
      " 13  lem_c_similarity                  37 non-null     float64\n",
      " 14  lem_ordered_g_similarity          37 non-null     float64\n",
      " 15  lem_ordered_j_similarity          37 non-null     float64\n",
      " 16  lem_ordered_s_similarity          37 non-null     float64\n",
      " 17  lem_ordered_c_similarity          37 non-null     float64\n",
      " 18  lem_has_water_evaporated          37 non-null     int64  \n",
      " 19  lem_has_evaporated_leaving        37 non-null     int64  \n",
      " 20  lem_has_leaving_salt              37 non-null     int64  \n",
      " 21  lem_has_water_evaporated_leaving  37 non-null     int64  \n",
      " 22  lem_has_evaporated_leaving_salt   37 non-null     int64  \n",
      "dtypes: float64(17), int64(6)\n",
      "memory usage: 6.8 KB\n"
     ]
    }
   ],
   "source": [
    "df = df.loc[:, selector.get_support()]\n",
    "df.info()"
   ]
  },
  {
   "cell_type": "code",
   "execution_count": 67,
   "metadata": {},
   "outputs": [],
   "source": [
    "def drop_low_variance_columns(df, idx_start,threshold = 0.0):\n",
    "    left = df.iloc[:, :idx_start]\n",
    "    right = df.iloc[:, idx_start:]\n",
    "    selector = VarianceThreshold(threshold)\n",
    "    best_features = selector.fit_transform(right)\n",
    "    right = right.loc[:,selector.get_support()]\n",
    "    df = pd.concat([left,right], axis = 1)\n",
    "    return df\n",
    "\n",
    "og = drop_low_variance_columns(og, idx_start=10 ,threshold = 0.01)"
   ]
  },
  {
   "cell_type": "code",
   "execution_count": 68,
   "metadata": {},
   "outputs": [
    {
     "name": "stdout",
     "output_type": "stream",
     "text": [
      "<class 'pandas.core.frame.DataFrame'>\n",
      "RangeIndex: 37 entries, 0 to 36\n",
      "Data columns (total 11 columns):\n",
      " #   Column                    Non-Null Count  Dtype \n",
      "---  ------                    --------------  ----- \n",
      " 0   student_answer            37 non-null     object\n",
      " 1   teacher_answer            37 non-null     object\n",
      " 2   label                     37 non-null     int64 \n",
      " 3   question_id               37 non-null     int64 \n",
      " 4   q_stopwords               37 non-null     object\n",
      " 5   q_stemmed                 37 non-null     object\n",
      " 6   q_stem_ordered            37 non-null     object\n",
      " 7   q_lemm                    37 non-null     object\n",
      " 8   q_lemm_ordered            37 non-null     object\n",
      " 9   q_stopwords_ordered       37 non-null     object\n",
      " 10  lem_has_water_evaporated  37 non-null     int64 \n",
      "dtypes: int64(3), object(8)\n",
      "memory usage: 3.3+ KB\n"
     ]
    }
   ],
   "source": [
    "og.info()"
   ]
  },
  {
   "cell_type": "code",
   "execution_count": null,
   "metadata": {},
   "outputs": [],
   "source": []
  }
 ],
 "metadata": {
  "kernelspec": {
   "display_name": "Python 3",
   "language": "python",
   "name": "python3"
  },
  "language_info": {
   "codemirror_mode": {
    "name": "ipython",
    "version": 3
   },
   "file_extension": ".py",
   "mimetype": "text/x-python",
   "name": "python",
   "nbconvert_exporter": "python",
   "pygments_lexer": "ipython3",
   "version": "3.8.1"
  }
 },
 "nbformat": 4,
 "nbformat_minor": 4
}
