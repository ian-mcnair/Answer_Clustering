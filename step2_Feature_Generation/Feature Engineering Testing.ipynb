{
 "cells": [
  {
   "cell_type": "code",
   "execution_count": 1,
   "metadata": {},
   "outputs": [],
   "source": [
    "import pandas as pd\n",
    "import numpy as np"
   ]
  },
  {
   "cell_type": "code",
   "execution_count": 2,
   "metadata": {},
   "outputs": [],
   "source": [
    "dataset_path = \"../data/one_sentence/question25_len7_size36.csv\""
   ]
  },
  {
   "cell_type": "code",
   "execution_count": 3,
   "metadata": {},
   "outputs": [],
   "source": [
    "og = pd.read_csv(\n",
    "    dataset_path\n",
    ")"
   ]
  },
  {
   "cell_type": "code",
   "execution_count": 4,
   "metadata": {},
   "outputs": [],
   "source": [
    "import sentence_to_feature as stfu\n",
    "answer = og.iloc[0,1]\n",
    "a_stopwords = stfu.remove_stopwords(answer)\n",
    "a_stemmed = stfu.stem_sentence(a_stopwords)\n",
    "a_stopwords_ordered = stfu.order_sentence(a_stemmed)\n",
    "a_stemmed_ordered = stfu.order_sentence(a_stemmed)\n",
    "a_lem = stfu.lemmatize_sentence(answer)\n",
    "a_lem_ordered = stfu.order_sentence(a_lem)\n"
   ]
  },
  {
   "cell_type": "code",
   "execution_count": 5,
   "metadata": {},
   "outputs": [],
   "source": [
    "og['q_stopwords'] = og.student_answer.apply(stfu.remove_stopwords)\n",
    "\n",
    "og['q_stemmed'] = og.q_stopwords.apply(stfu.stem_sentence)\n",
    "og['q_stem_ordered'] = og.q_stemmed.apply(stfu.order_sentence)\n",
    "\n",
    "og['q_lemm'] = og.q_stopwords.apply(stfu.lemmatize_sentence)\n",
    "og['q_lemm_ordered'] = og.q_lemm.apply(stfu.order_sentence)\n",
    "\n",
    "og['q_stopwords_ordered'] = og.q_stopwords.apply(stfu.order_sentence)"
   ]
  },
  {
   "cell_type": "code",
   "execution_count": 6,
   "metadata": {},
   "outputs": [],
   "source": [
    "# Counts\n",
    "og['wordcount'] = og.q_stem_ordered.apply(stfu.word_count)\n",
    "og['wordcount'] = stfu.scale_column(og, 'wordcount')\n",
    "og['sentence_count'] = og.student_answer.apply(stfu.sentence_count)\n",
    "og['sentence_count'] = stfu.scale_column(og, 'sentence_count')\n",
    "\n",
    "# Word based sim\n",
    "og['s_similarity'] = og.q_stopwords.apply(lambda x: stfu.spacy_similarity(x, a_stopwords))\n",
    "\n",
    "# Stem sim\n",
    "og['stem_g_similarity'] = og.q_stemmed.apply(lambda x: stfu.generic_similarity(x, a_stemmed))\n",
    "og['stem_j_similarity'] = og.q_stemmed.apply(lambda x: stfu.jaccard_similarity(x, a_stemmed))\n",
    "og['stem_c_similarity'] = og.q_stemmed.apply(lambda x: stfu.cosine_similarity(x, a_stemmed))\n",
    "# Ordered\n",
    "og['stem_ordered_g_similarity'] = og.q_stem_ordered.apply(lambda x: stfu.generic_similarity(x, a_stemmed_ordered))\n",
    "og['stem_ordered_j_similarity'] = og.q_stem_ordered.apply(lambda x: stfu.jaccard_similarity(x, a_stemmed_ordered))\n",
    "og['stem_ordered_c_similarity'] = og.q_stem_ordered.apply(lambda x: stfu.cosine_similarity(x, a_stemmed_ordered))\n",
    "\n",
    "# Lem Sim\n",
    "og['lem_g_similarity'] = og.q_lemm.apply(lambda x: stfu.generic_similarity(x, a_lem))\n",
    "og['lem_j_similarity'] = og.q_lemm.apply(lambda x: stfu.jaccard_similarity(x, a_lem))\n",
    "og['lem_s_similarity'] = og.q_lemm.apply(lambda x: stfu.spacy_similarity(x, a_lem))\n",
    "og['lem_c_similarity'] = og.q_lemm.apply(lambda x: stfu.cosine_similarity(x, a_lem))\n",
    "# Lem sim ordered\n",
    "og['lem_ordered_g_similarity'] = og.q_lemm_ordered.apply(lambda x: stfu.generic_similarity(x, a_lem_ordered))\n",
    "og['lem_ordered_j_similarity'] = og.q_lemm_ordered.apply(lambda x: stfu.jaccard_similarity(x, a_lem_ordered))\n",
    "og['lem_ordered_s_similarity'] = og.q_lemm_ordered.apply(lambda x: stfu.spacy_similarity(x, a_lem_ordered))\n",
    "og['lem_ordered_c_similarity'] = og.q_lemm_ordered.apply(lambda x: stfu.cosine_similarity(x, a_lem_ordered))\n",
    "\n",
    "# og.tail(10)"
   ]
  },
  {
   "cell_type": "code",
   "execution_count": 7,
   "metadata": {},
   "outputs": [
    {
     "name": "stdout",
     "output_type": "stream",
     "text": [
      "['water evaporated', 'evaporated leaving', 'leaving salt']\n"
     ]
    }
   ],
   "source": [
    "og = stfu.unigram_entity_extraction(og, 'q_lemm', 'lem', a_lem)\n",
    "og = stfu.bigram_entity_extraction(og, 'q_lemm', 'lem', a_lem)\n",
    "og = stfu.trigram_entity_extraction(og, 'q_lemm', 'lem', a_lem)"
   ]
  },
  {
   "cell_type": "markdown",
   "metadata": {},
   "source": [
    "# Create Feature Set\n",
    "Want to take in a filename, create all of the features, export them in a format that lets ML happen more easily\n",
    "\n",
    "## Need To Do\n",
    "- Drop all low variance features\n",
    "- normalize all features\n",
    "- assign unique id\n",
    "- save two datasets, one with sentences the other with just the data"
   ]
  },
  {
   "cell_type": "code",
   "execution_count": 8,
   "metadata": {},
   "outputs": [],
   "source": [
    "og = stfu.drop_low_variance_features(og, idx_start=10 ,threshold = 0.05)"
   ]
  },
  {
   "cell_type": "code",
   "execution_count": 9,
   "metadata": {},
   "outputs": [
    {
     "name": "stdout",
     "output_type": "stream",
     "text": [
      "Saved document data\n",
      "Saved numerical data\n"
     ]
    }
   ],
   "source": [
    "stfu.save_feature_set(og, 10, '../data/feature_sets/', 'saltwater' )"
   ]
  },
  {
   "cell_type": "code",
   "execution_count": null,
   "metadata": {},
   "outputs": [],
   "source": []
  }
 ],
 "metadata": {
  "kernelspec": {
   "display_name": "Python 3",
   "language": "python",
   "name": "python3"
  },
  "language_info": {
   "codemirror_mode": {
    "name": "ipython",
    "version": 3
   },
   "file_extension": ".py",
   "mimetype": "text/x-python",
   "name": "python",
   "nbconvert_exporter": "python",
   "pygments_lexer": "ipython3",
   "version": "3.8.1"
  }
 },
 "nbformat": 4,
 "nbformat_minor": 4
}
