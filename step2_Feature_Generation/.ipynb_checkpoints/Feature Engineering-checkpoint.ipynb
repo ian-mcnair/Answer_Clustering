{
 "cells": [
  {
   "cell_type": "code",
   "execution_count": 1,
   "metadata": {},
   "outputs": [],
   "source": [
    "import pandas as pd\n",
    "import numpy as np\n",
    "\n"
   ]
  },
  {
   "cell_type": "code",
   "execution_count": 2,
   "metadata": {},
   "outputs": [],
   "source": [
    "dataset_path = \"../data/one_sentence/question13_len4_size104.csv\""
   ]
  },
  {
   "cell_type": "code",
   "execution_count": 3,
   "metadata": {},
   "outputs": [],
   "source": [
    "og = pd.read_csv(\n",
    "    dataset_path\n",
    ")"
   ]
  },
  {
   "cell_type": "code",
   "execution_count": 4,
   "metadata": {},
   "outputs": [],
   "source": [
    "import sentence_to_feature as stfu\n",
    "answer = og.iloc[0,1]\n",
    "sw_answer = stfu.remove_stopwords(answer)"
   ]
  },
  {
   "cell_type": "code",
   "execution_count": 5,
   "metadata": {},
   "outputs": [
    {
     "data": {
      "text/html": [
       "<div>\n",
       "<style scoped>\n",
       "    .dataframe tbody tr th:only-of-type {\n",
       "        vertical-align: middle;\n",
       "    }\n",
       "\n",
       "    .dataframe tbody tr th {\n",
       "        vertical-align: top;\n",
       "    }\n",
       "\n",
       "    .dataframe thead th {\n",
       "        text-align: right;\n",
       "    }\n",
       "</style>\n",
       "<table border=\"1\" class=\"dataframe\">\n",
       "  <thead>\n",
       "    <tr style=\"text-align: right;\">\n",
       "      <th></th>\n",
       "      <th>student_answer</th>\n",
       "      <th>teacher_answer</th>\n",
       "      <th>label</th>\n",
       "      <th>question_id</th>\n",
       "      <th>stopwords_removed</th>\n",
       "    </tr>\n",
       "  </thead>\n",
       "  <tbody>\n",
       "    <tr>\n",
       "      <th>0</th>\n",
       "      <td>Because it is sticky!</td>\n",
       "      <td>The rubber band vibrates.</td>\n",
       "      <td>0</td>\n",
       "      <td>13</td>\n",
       "      <td>sticky !</td>\n",
       "    </tr>\n",
       "    <tr>\n",
       "      <th>1</th>\n",
       "      <td>Because it hits the other side.</td>\n",
       "      <td>The rubber band vibrates.</td>\n",
       "      <td>0</td>\n",
       "      <td>13</td>\n",
       "      <td>hits .</td>\n",
       "    </tr>\n",
       "    <tr>\n",
       "      <th>2</th>\n",
       "      <td>Because vibration.</td>\n",
       "      <td>The rubber band vibrates.</td>\n",
       "      <td>1</td>\n",
       "      <td>13</td>\n",
       "      <td>vibration .</td>\n",
       "    </tr>\n",
       "    <tr>\n",
       "      <th>3</th>\n",
       "      <td>It makes the plucking sound from stretching an...</td>\n",
       "      <td>The rubber band vibrates.</td>\n",
       "      <td>1</td>\n",
       "      <td>13</td>\n",
       "      <td>makes plucking sound stretching vibrates sound .</td>\n",
       "    </tr>\n",
       "    <tr>\n",
       "      <th>4</th>\n",
       "      <td>Because if you stretch it and let it go it mak...</td>\n",
       "      <td>The rubber band vibrates.</td>\n",
       "      <td>0</td>\n",
       "      <td>13</td>\n",
       "      <td>stretch let makes volume .</td>\n",
       "    </tr>\n",
       "  </tbody>\n",
       "</table>\n",
       "</div>"
      ],
      "text/plain": [
       "                                      student_answer  \\\n",
       "0                              Because it is sticky!   \n",
       "1                    Because it hits the other side.   \n",
       "2                                 Because vibration.   \n",
       "3  It makes the plucking sound from stretching an...   \n",
       "4  Because if you stretch it and let it go it mak...   \n",
       "\n",
       "              teacher_answer  label  question_id  \\\n",
       "0  The rubber band vibrates.      0           13   \n",
       "1  The rubber band vibrates.      0           13   \n",
       "2  The rubber band vibrates.      1           13   \n",
       "3  The rubber band vibrates.      1           13   \n",
       "4  The rubber band vibrates.      0           13   \n",
       "\n",
       "                                  stopwords_removed  \n",
       "0                                          sticky !  \n",
       "1                                            hits .  \n",
       "2                                       vibration .  \n",
       "3  makes plucking sound stretching vibrates sound .  \n",
       "4                        stretch let makes volume .  "
      ]
     },
     "execution_count": 5,
     "metadata": {},
     "output_type": "execute_result"
    }
   ],
   "source": [
    "og['stopwords_removed'] = og.student_answer.apply(stfu.remove_stopwords)\n",
    "og.head()"
   ]
  },
  {
   "cell_type": "code",
   "execution_count": 6,
   "metadata": {},
   "outputs": [],
   "source": [
    "og['porter'] = og.student_answer.apply(stfu.porter_stem)"
   ]
  },
  {
   "cell_type": "code",
   "execution_count": 7,
   "metadata": {},
   "outputs": [
    {
     "data": {
      "text/html": [
       "<div>\n",
       "<style scoped>\n",
       "    .dataframe tbody tr th:only-of-type {\n",
       "        vertical-align: middle;\n",
       "    }\n",
       "\n",
       "    .dataframe tbody tr th {\n",
       "        vertical-align: top;\n",
       "    }\n",
       "\n",
       "    .dataframe thead th {\n",
       "        text-align: right;\n",
       "    }\n",
       "</style>\n",
       "<table border=\"1\" class=\"dataframe\">\n",
       "  <thead>\n",
       "    <tr style=\"text-align: right;\">\n",
       "      <th></th>\n",
       "      <th>student_answer</th>\n",
       "      <th>teacher_answer</th>\n",
       "      <th>label</th>\n",
       "      <th>question_id</th>\n",
       "      <th>stopwords_removed</th>\n",
       "      <th>porter</th>\n",
       "    </tr>\n",
       "  </thead>\n",
       "  <tbody>\n",
       "    <tr>\n",
       "      <th>0</th>\n",
       "      <td>Because it is sticky!</td>\n",
       "      <td>The rubber band vibrates.</td>\n",
       "      <td>0</td>\n",
       "      <td>13</td>\n",
       "      <td>sticky !</td>\n",
       "      <td>[becaus, it, is, sticky!]</td>\n",
       "    </tr>\n",
       "    <tr>\n",
       "      <th>1</th>\n",
       "      <td>Because it hits the other side.</td>\n",
       "      <td>The rubber band vibrates.</td>\n",
       "      <td>0</td>\n",
       "      <td>13</td>\n",
       "      <td>hits .</td>\n",
       "      <td>[becaus, it, hit, the, other, side]</td>\n",
       "    </tr>\n",
       "    <tr>\n",
       "      <th>2</th>\n",
       "      <td>Because vibration.</td>\n",
       "      <td>The rubber band vibrates.</td>\n",
       "      <td>1</td>\n",
       "      <td>13</td>\n",
       "      <td>vibration .</td>\n",
       "      <td>[becaus, vibrat]</td>\n",
       "    </tr>\n",
       "    <tr>\n",
       "      <th>3</th>\n",
       "      <td>It makes the plucking sound from stretching an...</td>\n",
       "      <td>The rubber band vibrates.</td>\n",
       "      <td>1</td>\n",
       "      <td>13</td>\n",
       "      <td>makes plucking sound stretching vibrates sound .</td>\n",
       "      <td>[It, make, the, pluck, sound, from, stretch, a...</td>\n",
       "    </tr>\n",
       "    <tr>\n",
       "      <th>4</th>\n",
       "      <td>Because if you stretch it and let it go it mak...</td>\n",
       "      <td>The rubber band vibrates.</td>\n",
       "      <td>0</td>\n",
       "      <td>13</td>\n",
       "      <td>stretch let makes volume .</td>\n",
       "      <td>[becaus, if, you, stretch, it, and, let, it, g...</td>\n",
       "    </tr>\n",
       "  </tbody>\n",
       "</table>\n",
       "</div>"
      ],
      "text/plain": [
       "                                      student_answer  \\\n",
       "0                              Because it is sticky!   \n",
       "1                    Because it hits the other side.   \n",
       "2                                 Because vibration.   \n",
       "3  It makes the plucking sound from stretching an...   \n",
       "4  Because if you stretch it and let it go it mak...   \n",
       "\n",
       "              teacher_answer  label  question_id  \\\n",
       "0  The rubber band vibrates.      0           13   \n",
       "1  The rubber band vibrates.      0           13   \n",
       "2  The rubber band vibrates.      1           13   \n",
       "3  The rubber band vibrates.      1           13   \n",
       "4  The rubber band vibrates.      0           13   \n",
       "\n",
       "                                  stopwords_removed  \\\n",
       "0                                          sticky !   \n",
       "1                                            hits .   \n",
       "2                                       vibration .   \n",
       "3  makes plucking sound stretching vibrates sound .   \n",
       "4                        stretch let makes volume .   \n",
       "\n",
       "                                              porter  \n",
       "0                          [becaus, it, is, sticky!]  \n",
       "1                [becaus, it, hit, the, other, side]  \n",
       "2                                   [becaus, vibrat]  \n",
       "3  [It, make, the, pluck, sound, from, stretch, a...  \n",
       "4  [becaus, if, you, stretch, it, and, let, it, g...  "
      ]
     },
     "execution_count": 7,
     "metadata": {},
     "output_type": "execute_result"
    }
   ],
   "source": [
    "og.head()"
   ]
  },
  {
   "cell_type": "code",
   "execution_count": 6,
   "metadata": {},
   "outputs": [
    {
     "ename": "TypeError",
     "evalue": "get_vectors() takes 1 positional argument but 2 were given",
     "output_type": "error",
     "traceback": [
      "\u001b[1;31m---------------------------------------------------------------------------\u001b[0m",
      "\u001b[1;31mTypeError\u001b[0m                                 Traceback (most recent call last)",
      "\u001b[1;32m<ipython-input-6-cc0d5c87de4b>\u001b[0m in \u001b[0;36m<module>\u001b[1;34m\u001b[0m\n\u001b[0;32m      2\u001b[0m \u001b[0mog\u001b[0m\u001b[1;33m[\u001b[0m\u001b[1;34m'j_similarity'\u001b[0m\u001b[1;33m]\u001b[0m \u001b[1;33m=\u001b[0m \u001b[0mog\u001b[0m\u001b[1;33m.\u001b[0m\u001b[0mstopwords_removed\u001b[0m\u001b[1;33m.\u001b[0m\u001b[0mapply\u001b[0m\u001b[1;33m(\u001b[0m\u001b[1;32mlambda\u001b[0m \u001b[0mx\u001b[0m\u001b[1;33m:\u001b[0m \u001b[0mstfu\u001b[0m\u001b[1;33m.\u001b[0m\u001b[0mjaccard_similarity\u001b[0m\u001b[1;33m(\u001b[0m\u001b[0mx\u001b[0m\u001b[1;33m,\u001b[0m \u001b[0msw_answer\u001b[0m\u001b[1;33m)\u001b[0m\u001b[1;33m)\u001b[0m\u001b[1;33m\u001b[0m\u001b[1;33m\u001b[0m\u001b[0m\n\u001b[0;32m      3\u001b[0m \u001b[0mog\u001b[0m\u001b[1;33m[\u001b[0m\u001b[1;34m's_similarity'\u001b[0m\u001b[1;33m]\u001b[0m \u001b[1;33m=\u001b[0m \u001b[0mog\u001b[0m\u001b[1;33m.\u001b[0m\u001b[0mstopwords_removed\u001b[0m\u001b[1;33m.\u001b[0m\u001b[0mapply\u001b[0m\u001b[1;33m(\u001b[0m\u001b[1;32mlambda\u001b[0m \u001b[0mx\u001b[0m\u001b[1;33m:\u001b[0m \u001b[0mstfu\u001b[0m\u001b[1;33m.\u001b[0m\u001b[0mspacy_similarity\u001b[0m\u001b[1;33m(\u001b[0m\u001b[0mx\u001b[0m\u001b[1;33m,\u001b[0m \u001b[0msw_answer\u001b[0m\u001b[1;33m)\u001b[0m\u001b[1;33m)\u001b[0m\u001b[1;33m\u001b[0m\u001b[1;33m\u001b[0m\u001b[0m\n\u001b[1;32m----> 4\u001b[1;33m \u001b[0mog\u001b[0m\u001b[1;33m[\u001b[0m\u001b[1;34m'c_similarity'\u001b[0m\u001b[1;33m]\u001b[0m \u001b[1;33m=\u001b[0m \u001b[0mog\u001b[0m\u001b[1;33m.\u001b[0m\u001b[0mstopwords_removed\u001b[0m\u001b[1;33m.\u001b[0m\u001b[0mapply\u001b[0m\u001b[1;33m(\u001b[0m\u001b[1;32mlambda\u001b[0m \u001b[0mx\u001b[0m\u001b[1;33m:\u001b[0m \u001b[0mstfu\u001b[0m\u001b[1;33m.\u001b[0m\u001b[0mget_cosine_sim\u001b[0m\u001b[1;33m(\u001b[0m\u001b[0mx\u001b[0m\u001b[1;33m,\u001b[0m \u001b[0msw_answer\u001b[0m\u001b[1;33m)\u001b[0m\u001b[1;33m)\u001b[0m\u001b[1;33m\u001b[0m\u001b[1;33m\u001b[0m\u001b[0m\n\u001b[0m",
      "\u001b[1;32mc:\\users\\imcna\\.virtualenvs\\answer_clustering-dp5vzxyv\\lib\\site-packages\\pandas\\core\\series.py\u001b[0m in \u001b[0;36mapply\u001b[1;34m(self, func, convert_dtype, args, **kwds)\u001b[0m\n\u001b[0;32m   3846\u001b[0m             \u001b[1;32melse\u001b[0m\u001b[1;33m:\u001b[0m\u001b[1;33m\u001b[0m\u001b[1;33m\u001b[0m\u001b[0m\n\u001b[0;32m   3847\u001b[0m                 \u001b[0mvalues\u001b[0m \u001b[1;33m=\u001b[0m \u001b[0mself\u001b[0m\u001b[1;33m.\u001b[0m\u001b[0mastype\u001b[0m\u001b[1;33m(\u001b[0m\u001b[0mobject\u001b[0m\u001b[1;33m)\u001b[0m\u001b[1;33m.\u001b[0m\u001b[0mvalues\u001b[0m\u001b[1;33m\u001b[0m\u001b[1;33m\u001b[0m\u001b[0m\n\u001b[1;32m-> 3848\u001b[1;33m                 \u001b[0mmapped\u001b[0m \u001b[1;33m=\u001b[0m \u001b[0mlib\u001b[0m\u001b[1;33m.\u001b[0m\u001b[0mmap_infer\u001b[0m\u001b[1;33m(\u001b[0m\u001b[0mvalues\u001b[0m\u001b[1;33m,\u001b[0m \u001b[0mf\u001b[0m\u001b[1;33m,\u001b[0m \u001b[0mconvert\u001b[0m\u001b[1;33m=\u001b[0m\u001b[0mconvert_dtype\u001b[0m\u001b[1;33m)\u001b[0m\u001b[1;33m\u001b[0m\u001b[1;33m\u001b[0m\u001b[0m\n\u001b[0m\u001b[0;32m   3849\u001b[0m \u001b[1;33m\u001b[0m\u001b[0m\n\u001b[0;32m   3850\u001b[0m         \u001b[1;32mif\u001b[0m \u001b[0mlen\u001b[0m\u001b[1;33m(\u001b[0m\u001b[0mmapped\u001b[0m\u001b[1;33m)\u001b[0m \u001b[1;32mand\u001b[0m \u001b[0misinstance\u001b[0m\u001b[1;33m(\u001b[0m\u001b[0mmapped\u001b[0m\u001b[1;33m[\u001b[0m\u001b[1;36m0\u001b[0m\u001b[1;33m]\u001b[0m\u001b[1;33m,\u001b[0m \u001b[0mSeries\u001b[0m\u001b[1;33m)\u001b[0m\u001b[1;33m:\u001b[0m\u001b[1;33m\u001b[0m\u001b[1;33m\u001b[0m\u001b[0m\n",
      "\u001b[1;32mpandas\\_libs\\lib.pyx\u001b[0m in \u001b[0;36mpandas._libs.lib.map_infer\u001b[1;34m()\u001b[0m\n",
      "\u001b[1;32m<ipython-input-6-cc0d5c87de4b>\u001b[0m in \u001b[0;36m<lambda>\u001b[1;34m(x)\u001b[0m\n\u001b[0;32m      2\u001b[0m \u001b[0mog\u001b[0m\u001b[1;33m[\u001b[0m\u001b[1;34m'j_similarity'\u001b[0m\u001b[1;33m]\u001b[0m \u001b[1;33m=\u001b[0m \u001b[0mog\u001b[0m\u001b[1;33m.\u001b[0m\u001b[0mstopwords_removed\u001b[0m\u001b[1;33m.\u001b[0m\u001b[0mapply\u001b[0m\u001b[1;33m(\u001b[0m\u001b[1;32mlambda\u001b[0m \u001b[0mx\u001b[0m\u001b[1;33m:\u001b[0m \u001b[0mstfu\u001b[0m\u001b[1;33m.\u001b[0m\u001b[0mjaccard_similarity\u001b[0m\u001b[1;33m(\u001b[0m\u001b[0mx\u001b[0m\u001b[1;33m,\u001b[0m \u001b[0msw_answer\u001b[0m\u001b[1;33m)\u001b[0m\u001b[1;33m)\u001b[0m\u001b[1;33m\u001b[0m\u001b[1;33m\u001b[0m\u001b[0m\n\u001b[0;32m      3\u001b[0m \u001b[0mog\u001b[0m\u001b[1;33m[\u001b[0m\u001b[1;34m's_similarity'\u001b[0m\u001b[1;33m]\u001b[0m \u001b[1;33m=\u001b[0m \u001b[0mog\u001b[0m\u001b[1;33m.\u001b[0m\u001b[0mstopwords_removed\u001b[0m\u001b[1;33m.\u001b[0m\u001b[0mapply\u001b[0m\u001b[1;33m(\u001b[0m\u001b[1;32mlambda\u001b[0m \u001b[0mx\u001b[0m\u001b[1;33m:\u001b[0m \u001b[0mstfu\u001b[0m\u001b[1;33m.\u001b[0m\u001b[0mspacy_similarity\u001b[0m\u001b[1;33m(\u001b[0m\u001b[0mx\u001b[0m\u001b[1;33m,\u001b[0m \u001b[0msw_answer\u001b[0m\u001b[1;33m)\u001b[0m\u001b[1;33m)\u001b[0m\u001b[1;33m\u001b[0m\u001b[1;33m\u001b[0m\u001b[0m\n\u001b[1;32m----> 4\u001b[1;33m \u001b[0mog\u001b[0m\u001b[1;33m[\u001b[0m\u001b[1;34m'c_similarity'\u001b[0m\u001b[1;33m]\u001b[0m \u001b[1;33m=\u001b[0m \u001b[0mog\u001b[0m\u001b[1;33m.\u001b[0m\u001b[0mstopwords_removed\u001b[0m\u001b[1;33m.\u001b[0m\u001b[0mapply\u001b[0m\u001b[1;33m(\u001b[0m\u001b[1;32mlambda\u001b[0m \u001b[0mx\u001b[0m\u001b[1;33m:\u001b[0m \u001b[0mstfu\u001b[0m\u001b[1;33m.\u001b[0m\u001b[0mget_cosine_sim\u001b[0m\u001b[1;33m(\u001b[0m\u001b[0mx\u001b[0m\u001b[1;33m,\u001b[0m \u001b[0msw_answer\u001b[0m\u001b[1;33m)\u001b[0m\u001b[1;33m)\u001b[0m\u001b[1;33m\u001b[0m\u001b[1;33m\u001b[0m\u001b[0m\n\u001b[0m",
      "\u001b[1;32m~\\Documents\\Projects\\Answer_Clustering\\step2_Feature_Generation\\sentence_to_feature.py\u001b[0m in \u001b[0;36mget_cosine_sim\u001b[1;34m(*strs)\u001b[0m\n\u001b[0;32m     58\u001b[0m \u001b[1;32mfrom\u001b[0m \u001b[0msklearn\u001b[0m\u001b[1;33m.\u001b[0m\u001b[0mmetrics\u001b[0m\u001b[1;33m.\u001b[0m\u001b[0mpairwise\u001b[0m \u001b[1;32mimport\u001b[0m \u001b[0mcosine_similarity\u001b[0m\u001b[1;33m\u001b[0m\u001b[1;33m\u001b[0m\u001b[0m\n\u001b[0;32m     59\u001b[0m \u001b[1;32mdef\u001b[0m \u001b[0mget_cosine_sim\u001b[0m\u001b[1;33m(\u001b[0m\u001b[1;33m*\u001b[0m\u001b[0mstrs\u001b[0m\u001b[1;33m)\u001b[0m\u001b[1;33m:\u001b[0m\u001b[1;33m\u001b[0m\u001b[1;33m\u001b[0m\u001b[0m\n\u001b[1;32m---> 60\u001b[1;33m     \u001b[0mvectors\u001b[0m \u001b[1;33m=\u001b[0m \u001b[1;33m[\u001b[0m\u001b[0mt\u001b[0m \u001b[1;32mfor\u001b[0m \u001b[0mt\u001b[0m \u001b[1;32min\u001b[0m \u001b[0mget_vectors\u001b[0m\u001b[1;33m(\u001b[0m\u001b[1;33m*\u001b[0m\u001b[0mstrs\u001b[0m\u001b[1;33m)\u001b[0m\u001b[1;33m]\u001b[0m\u001b[1;33m\u001b[0m\u001b[1;33m\u001b[0m\u001b[0m\n\u001b[0m\u001b[0;32m     61\u001b[0m     \u001b[1;32mreturn\u001b[0m \u001b[0mcosine_similarity\u001b[0m\u001b[1;33m(\u001b[0m\u001b[0mvectors\u001b[0m\u001b[1;33m)\u001b[0m\u001b[1;33m\u001b[0m\u001b[1;33m\u001b[0m\u001b[0m\n\u001b[0;32m     62\u001b[0m \u001b[1;33m\u001b[0m\u001b[0m\n",
      "\u001b[1;31mTypeError\u001b[0m: get_vectors() takes 1 positional argument but 2 were given"
     ]
    }
   ],
   "source": [
    "og['wordcount'] = og.stopwords_removed.apply(stfu.create_word_count)\n",
    "og['j_similarity'] = og.stopwords_removed.apply(lambda x: stfu.jaccard_similarity(x, sw_answer))\n",
    "og['s_similarity'] = og.stopwords_removed.apply(lambda x: stfu.spacy_similarity(x, sw_answer))\n",
    "# og['c_similarity'] = og.stopwords_removed.apply(lambda x: stfu.get_cosine_sim(x, sw_answer))"
   ]
  },
  {
   "cell_type": "markdown",
   "metadata": {},
   "source": [
    "## Quick Graph"
   ]
  },
  {
   "cell_type": "code",
   "execution_count": 17,
   "metadata": {},
   "outputs": [],
   "source": [
    "import seaborn as sns\n",
    "import matplotlib.pyplot as plt"
   ]
  },
  {
   "cell_type": "code",
   "execution_count": 18,
   "metadata": {},
   "outputs": [
    {
     "data": {
      "image/png": "[encoded data removed]",
      "text/plain": [
       "<Figure size 432x288 with 1 Axes>"
      ]
     },
     "metadata": {
      "needs_background": "light"
     },
     "output_type": "display_data"
    }
   ],
   "source": [
    "sns.scatterplot(\n",
    "    og.j_similarity,\n",
    "    og.s_similarity,\n",
    "    hue = og.label,\n",
    "    size = og.wordcount\n",
    ")\n",
    "plt.show()"
   ]
  },
  {
   "cell_type": "code",
   "execution_count": null,
   "metadata": {},
   "outputs": [],
   "source": []
  }
 ],
 "metadata": {
  "kernelspec": {
   "display_name": "Python 3",
   "language": "python",
   "name": "python3"
  },
  "language_info": {
   "codemirror_mode": {
    "name": "ipython",
    "version": 3
   },
   "file_extension": ".py",
   "mimetype": "text/x-python",
   "name": "python",
   "nbconvert_exporter": "python",
   "pygments_lexer": "ipython3",
   "version": "3.8.1"
  }
 },
 "nbformat": 4,
 "nbformat_minor": 4
}
